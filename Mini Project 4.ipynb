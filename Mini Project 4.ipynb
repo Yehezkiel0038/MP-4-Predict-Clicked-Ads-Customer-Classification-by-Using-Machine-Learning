{
 "cells": [
  {
   "cell_type": "code",
   "execution_count": 1,
   "id": "94bfb753-eff8-4858-9913-b3c9a3449778",
   "metadata": {},
   "outputs": [],
   "source": [
    "import pandas as pd\n",
    "import numpy as np\n",
    "import seaborn as sns\n",
    "import matplotlib.pyplot as plt\n",
    "import warnings\n",
    "warnings.filterwarnings('ignore')"
   ]
  },
  {
   "cell_type": "code",
   "execution_count": 2,
   "id": "642b693c-f57d-470c-b688-b610f62936c7",
   "metadata": {},
   "outputs": [
    {
     "data": {
      "text/html": [
       "<div>\n",
       "<style scoped>\n",
       "    .dataframe tbody tr th:only-of-type {\n",
       "        vertical-align: middle;\n",
       "    }\n",
       "\n",
       "    .dataframe tbody tr th {\n",
       "        vertical-align: top;\n",
       "    }\n",
       "\n",
       "    .dataframe thead th {\n",
       "        text-align: right;\n",
       "    }\n",
       "</style>\n",
       "<table border=\"1\" class=\"dataframe\">\n",
       "  <thead>\n",
       "    <tr style=\"text-align: right;\">\n",
       "      <th></th>\n",
       "      <th>index</th>\n",
       "      <th>daily_time_spent_on_site</th>\n",
       "      <th>age</th>\n",
       "      <th>area_income</th>\n",
       "      <th>daily_internet_usage</th>\n",
       "      <th>gender</th>\n",
       "      <th>timestamp</th>\n",
       "      <th>clicked_on_ad</th>\n",
       "      <th>city</th>\n",
       "      <th>province</th>\n",
       "      <th>category</th>\n",
       "    </tr>\n",
       "  </thead>\n",
       "  <tbody>\n",
       "    <tr>\n",
       "      <th>123</th>\n",
       "      <td>123</td>\n",
       "      <td>37.75</td>\n",
       "      <td>36</td>\n",
       "      <td>248267600.0</td>\n",
       "      <td>225.24</td>\n",
       "      <td>Perempuan</td>\n",
       "      <td>2/26/2016 19:48</td>\n",
       "      <td>Yes</td>\n",
       "      <td>Surabaya</td>\n",
       "      <td>Jawa Timur</td>\n",
       "      <td>Furniture</td>\n",
       "    </tr>\n",
       "    <tr>\n",
       "      <th>583</th>\n",
       "      <td>583</td>\n",
       "      <td>68.60</td>\n",
       "      <td>33</td>\n",
       "      <td>479142580.0</td>\n",
       "      <td>135.08</td>\n",
       "      <td>Perempuan</td>\n",
       "      <td>2/17/2016 18:50</td>\n",
       "      <td>Yes</td>\n",
       "      <td>Surabaya</td>\n",
       "      <td>Jawa Timur</td>\n",
       "      <td>Health</td>\n",
       "    </tr>\n",
       "    <tr>\n",
       "      <th>691</th>\n",
       "      <td>691</td>\n",
       "      <td>87.16</td>\n",
       "      <td>37</td>\n",
       "      <td>NaN</td>\n",
       "      <td>231.95</td>\n",
       "      <td>Laki-Laki</td>\n",
       "      <td>3/16/2016 20:33</td>\n",
       "      <td>No</td>\n",
       "      <td>Jakarta Pusat</td>\n",
       "      <td>Daerah Khusus Ibukota Jakarta</td>\n",
       "      <td>Fashion</td>\n",
       "    </tr>\n",
       "    <tr>\n",
       "      <th>412</th>\n",
       "      <td>412</td>\n",
       "      <td>68.82</td>\n",
       "      <td>20</td>\n",
       "      <td>270264400.0</td>\n",
       "      <td>205.64</td>\n",
       "      <td>Laki-Laki</td>\n",
       "      <td>7/11/2016 15:45</td>\n",
       "      <td>No</td>\n",
       "      <td>Surabaya</td>\n",
       "      <td>Jawa Timur</td>\n",
       "      <td>Finance</td>\n",
       "    </tr>\n",
       "    <tr>\n",
       "      <th>790</th>\n",
       "      <td>790</td>\n",
       "      <td>36.98</td>\n",
       "      <td>31</td>\n",
       "      <td>276867430.0</td>\n",
       "      <td>167.87</td>\n",
       "      <td>Laki-Laki</td>\n",
       "      <td>3/17/2016 6:25</td>\n",
       "      <td>Yes</td>\n",
       "      <td>Palembang</td>\n",
       "      <td>Sumatra Selatan</td>\n",
       "      <td>Finance</td>\n",
       "    </tr>\n",
       "  </tbody>\n",
       "</table>\n",
       "</div>"
      ],
      "text/plain": [
       "     index  daily_time_spent_on_site  age  area_income  daily_internet_usage  \\\n",
       "123    123                     37.75   36  248267600.0                225.24   \n",
       "583    583                     68.60   33  479142580.0                135.08   \n",
       "691    691                     87.16   37          NaN                231.95   \n",
       "412    412                     68.82   20  270264400.0                205.64   \n",
       "790    790                     36.98   31  276867430.0                167.87   \n",
       "\n",
       "        gender        timestamp clicked_on_ad           city  \\\n",
       "123  Perempuan  2/26/2016 19:48           Yes       Surabaya   \n",
       "583  Perempuan  2/17/2016 18:50           Yes       Surabaya   \n",
       "691  Laki-Laki  3/16/2016 20:33            No  Jakarta Pusat   \n",
       "412  Laki-Laki  7/11/2016 15:45            No       Surabaya   \n",
       "790  Laki-Laki   3/17/2016 6:25           Yes      Palembang   \n",
       "\n",
       "                          province   category  \n",
       "123                     Jawa Timur  Furniture  \n",
       "583                     Jawa Timur     Health  \n",
       "691  Daerah Khusus Ibukota Jakarta    Fashion  \n",
       "412                     Jawa Timur    Finance  \n",
       "790                Sumatra Selatan    Finance  "
      ]
     },
     "execution_count": 2,
     "metadata": {},
     "output_type": "execute_result"
    }
   ],
   "source": [
    "df = pd.read_csv('D:/Belajar DS/Rakamin JAP/Mini Project 4/Clicked Ads Dataset.csv')\n",
    "df.columns = df.columns.str.lower()\n",
    "df.rename(columns = {'unnamed: 0':'index',\n",
    "                    'male':'gender',\n",
    "                    'daily time spent on site':'daily_time_spent_on_site',\n",
    "                    'area income':'area_income',\n",
    "                    'daily internet usage': 'daily_internet_usage',\n",
    "                    'clicked on ad':'clicked_on_ad'}, inplace = True)\n",
    "df.sample(5)"
   ]
  },
  {
   "cell_type": "code",
   "execution_count": 26,
   "id": "d743c47e-52c3-4dec-80b3-830bde775e0a",
   "metadata": {},
   "outputs": [
    {
     "data": {
      "text/plain": [
       "Yes    52\n",
       "No     48\n",
       "Name: clicked_on_ad, dtype: int64"
      ]
     },
     "execution_count": 26,
     "metadata": {},
     "output_type": "execute_result"
    }
   ],
   "source": [
    "df_coba=df.sample(100)\n",
    "df_coba.reset_index()\n",
    "df_coba['clicked_on_ad'].value_counts()"
   ]
  },
  {
   "cell_type": "code",
   "execution_count": 3,
   "id": "a3f607e1-fb30-4965-8fc5-18ff355ddc76",
   "metadata": {},
   "outputs": [
    {
     "name": "stdout",
     "output_type": "stream",
     "text": [
      "<class 'pandas.core.frame.DataFrame'>\n",
      "RangeIndex: 1000 entries, 0 to 999\n",
      "Data columns (total 11 columns):\n",
      " #   Column                    Non-Null Count  Dtype  \n",
      "---  ------                    --------------  -----  \n",
      " 0   index                     1000 non-null   int64  \n",
      " 1   daily_time_spent_on_site  987 non-null    float64\n",
      " 2   age                       1000 non-null   int64  \n",
      " 3   area_income               987 non-null    float64\n",
      " 4   daily_internet_usage      989 non-null    float64\n",
      " 5   gender                    997 non-null    object \n",
      " 6   timestamp                 1000 non-null   object \n",
      " 7   clicked_on_ad             1000 non-null   object \n",
      " 8   city                      1000 non-null   object \n",
      " 9   province                  1000 non-null   object \n",
      " 10  category                  1000 non-null   object \n",
      "dtypes: float64(3), int64(2), object(6)\n",
      "memory usage: 86.1+ KB\n"
     ]
    }
   ],
   "source": [
    "df.info()"
   ]
  },
  {
   "cell_type": "markdown",
   "id": "f714b490-63ce-4996-b699-18da6b7f6871",
   "metadata": {},
   "source": [
    "tidak ada yang aneh, semua tipe data sudah sesuai/normal"
   ]
  },
  {
   "cell_type": "code",
   "execution_count": 4,
   "id": "4d33c898-3dae-4cf4-9c38-4ccfb20fbfd6",
   "metadata": {},
   "outputs": [
    {
     "data": {
      "text/html": [
       "<div>\n",
       "<style scoped>\n",
       "    .dataframe tbody tr th:only-of-type {\n",
       "        vertical-align: middle;\n",
       "    }\n",
       "\n",
       "    .dataframe tbody tr th {\n",
       "        vertical-align: top;\n",
       "    }\n",
       "\n",
       "    .dataframe thead th {\n",
       "        text-align: right;\n",
       "    }\n",
       "</style>\n",
       "<table border=\"1\" class=\"dataframe\">\n",
       "  <thead>\n",
       "    <tr style=\"text-align: right;\">\n",
       "      <th></th>\n",
       "      <th>index</th>\n",
       "      <th>daily_time_spent_on_site</th>\n",
       "      <th>age</th>\n",
       "      <th>area_income</th>\n",
       "      <th>daily_internet_usage</th>\n",
       "    </tr>\n",
       "  </thead>\n",
       "  <tbody>\n",
       "    <tr>\n",
       "      <th>count</th>\n",
       "      <td>1000.000000</td>\n",
       "      <td>987.000000</td>\n",
       "      <td>1000.000000</td>\n",
       "      <td>9.870000e+02</td>\n",
       "      <td>989.000000</td>\n",
       "    </tr>\n",
       "    <tr>\n",
       "      <th>mean</th>\n",
       "      <td>499.500000</td>\n",
       "      <td>64.929524</td>\n",
       "      <td>36.009000</td>\n",
       "      <td>3.848647e+08</td>\n",
       "      <td>179.863620</td>\n",
       "    </tr>\n",
       "    <tr>\n",
       "      <th>std</th>\n",
       "      <td>288.819436</td>\n",
       "      <td>15.844699</td>\n",
       "      <td>8.785562</td>\n",
       "      <td>9.407999e+07</td>\n",
       "      <td>43.870142</td>\n",
       "    </tr>\n",
       "    <tr>\n",
       "      <th>min</th>\n",
       "      <td>0.000000</td>\n",
       "      <td>32.600000</td>\n",
       "      <td>19.000000</td>\n",
       "      <td>9.797550e+07</td>\n",
       "      <td>104.780000</td>\n",
       "    </tr>\n",
       "    <tr>\n",
       "      <th>25%</th>\n",
       "      <td>249.750000</td>\n",
       "      <td>51.270000</td>\n",
       "      <td>29.000000</td>\n",
       "      <td>3.286330e+08</td>\n",
       "      <td>138.710000</td>\n",
       "    </tr>\n",
       "    <tr>\n",
       "      <th>50%</th>\n",
       "      <td>499.500000</td>\n",
       "      <td>68.110000</td>\n",
       "      <td>35.000000</td>\n",
       "      <td>3.990683e+08</td>\n",
       "      <td>182.650000</td>\n",
       "    </tr>\n",
       "    <tr>\n",
       "      <th>75%</th>\n",
       "      <td>749.250000</td>\n",
       "      <td>78.460000</td>\n",
       "      <td>42.000000</td>\n",
       "      <td>4.583554e+08</td>\n",
       "      <td>218.790000</td>\n",
       "    </tr>\n",
       "    <tr>\n",
       "      <th>max</th>\n",
       "      <td>999.000000</td>\n",
       "      <td>91.430000</td>\n",
       "      <td>61.000000</td>\n",
       "      <td>5.563936e+08</td>\n",
       "      <td>267.010000</td>\n",
       "    </tr>\n",
       "  </tbody>\n",
       "</table>\n",
       "</div>"
      ],
      "text/plain": [
       "             index  daily_time_spent_on_site          age   area_income  \\\n",
       "count  1000.000000                987.000000  1000.000000  9.870000e+02   \n",
       "mean    499.500000                 64.929524    36.009000  3.848647e+08   \n",
       "std     288.819436                 15.844699     8.785562  9.407999e+07   \n",
       "min       0.000000                 32.600000    19.000000  9.797550e+07   \n",
       "25%     249.750000                 51.270000    29.000000  3.286330e+08   \n",
       "50%     499.500000                 68.110000    35.000000  3.990683e+08   \n",
       "75%     749.250000                 78.460000    42.000000  4.583554e+08   \n",
       "max     999.000000                 91.430000    61.000000  5.563936e+08   \n",
       "\n",
       "       daily_internet_usage  \n",
       "count            989.000000  \n",
       "mean             179.863620  \n",
       "std               43.870142  \n",
       "min              104.780000  \n",
       "25%              138.710000  \n",
       "50%              182.650000  \n",
       "75%              218.790000  \n",
       "max              267.010000  "
      ]
     },
     "execution_count": 4,
     "metadata": {},
     "output_type": "execute_result"
    }
   ],
   "source": [
    "df.describe()"
   ]
  },
  {
   "cell_type": "markdown",
   "id": "603573b4-4ebd-48ab-aec0-7707d4ccf5ba",
   "metadata": {},
   "source": [
    "kolom/feature area income punya persebaran value yang cukup luas dari xxxxxxx sampai xxxxxxx"
   ]
  },
  {
   "cell_type": "code",
   "execution_count": 5,
   "id": "235c0bfd-a252-49a5-9935-3e99045a188f",
   "metadata": {},
   "outputs": [],
   "source": [
    "# Membagi data type menjadi numerikal dan kategorikal untuk memudahkan EDA\n",
    "numerical = [column for column in df.columns if (df[column].dtype=='int64')|(df[column].dtype=='float64')]\n",
    "categorical = [column for column in df.columns if (df[column].dtype=='object')]"
   ]
  },
  {
   "cell_type": "code",
   "execution_count": 6,
   "id": "b9f7fbdb-25a6-4f1c-99d4-561e4d1b60c7",
   "metadata": {},
   "outputs": [
    {
     "data": {
      "text/plain": [
       "['index',\n",
       " 'daily_time_spent_on_site',\n",
       " 'age',\n",
       " 'area_income',\n",
       " 'daily_internet_usage']"
      ]
     },
     "execution_count": 6,
     "metadata": {},
     "output_type": "execute_result"
    }
   ],
   "source": [
    "numerical"
   ]
  },
  {
   "cell_type": "code",
   "execution_count": 7,
   "id": "f2550187-72ca-41fd-94b1-ade5957ee73c",
   "metadata": {},
   "outputs": [
    {
     "data": {
      "text/plain": [
       "['gender', 'timestamp', 'clicked_on_ad', 'city', 'province', 'category']"
      ]
     },
     "execution_count": 7,
     "metadata": {},
     "output_type": "execute_result"
    }
   ],
   "source": [
    "categorical"
   ]
  },
  {
   "cell_type": "markdown",
   "id": "8b4de12c-1fc5-4c58-9f7c-a3b19fb3dc6b",
   "metadata": {},
   "source": [
    "## **EDA**"
   ]
  },
  {
   "cell_type": "markdown",
   "id": "3c46a018-3b1e-46ce-8a19-852f515c7eb9",
   "metadata": {},
   "source": [
    "### **Univariate Analysis 1**"
   ]
  },
  {
   "cell_type": "code",
   "execution_count": 8,
   "id": "c01e7236-5a94-47e7-ba4e-5076127a351c",
   "metadata": {},
   "outputs": [
    {
     "data": {
      "image/png": "[encoded data removed]",
      "text/plain": [
       "<Figure size 1440x576 with 5 Axes>"
      ]
     },
     "metadata": {
      "needs_background": "light"
     },
     "output_type": "display_data"
    }
   ],
   "source": [
    "features = numerical\n",
    "plt.figure(figsize=(20, 8))\n",
    "for i in range(0, len(features)):\n",
    "        plt.subplot(2, 3, i+1)\n",
    "        sns.boxplot(y=df[features[i]], color='blue', orient='v')"
   ]
  },
  {
   "cell_type": "markdown",
   "id": "5859f89f-1cbf-46dd-93a6-e7ff3abf5c01",
   "metadata": {},
   "source": [
    "Insight:\n",
    "Berdasarkan visualisasi boxplot feature numerikal yang ada dalam dataset dapat diketahui bahwa hampir semua feature terbebas dari outlier. Hanya terdapat satu feature yang memiliki outlier yakni area income. Untuk feature area_income ini akan diberi penanganan dengan metode IQR (Interquartile Range)."
   ]
  },
  {
   "cell_type": "markdown",
   "id": "bc158e23-932f-460c-9325-03dc0ca5cb6a",
   "metadata": {},
   "source": [
    "### **Univariate Analysis 2**"
   ]
  },
  {
   "cell_type": "code",
   "execution_count": 9,
   "id": "9bcc752b-a4bb-4b43-b6e3-3f35ca533d91",
   "metadata": {},
   "outputs": [
    {
     "data": {
      "image/png": "[encoded data removed]",
      "text/plain": [
       "<Figure size 1440x576 with 5 Axes>"
      ]
     },
     "metadata": {
      "needs_background": "light"
     },
     "output_type": "display_data"
    }
   ],
   "source": [
    "features = numerical\n",
    "plt.figure(figsize=(20, 8))\n",
    "for i in range(0, len(features)):\n",
    "   \n",
    "        plt.subplot(2, 3, i+1)\n",
    "        sns.kdeplot(x=df[features[i]], color='blue')\n",
    "        plt.xlabel(features[i])\n",
    "        plt.tight_layout()"
   ]
  },
  {
   "cell_type": "markdown",
   "id": "a3a871e1-468f-4668-bcc7-8944d24e0ea1",
   "metadata": {},
   "source": [
    "Insight:\n",
    "Berdasarkan visualisasi distribusi plot diatas, terlihat bahwa semua feature numerikal yang ada memiliki distribusi yang cukup normal (mendekati normal) atau tidak ada yang terlalu terdistribusi positif atau negatif yang ekstrem (Right/left Skewness)."
   ]
  },
  {
   "cell_type": "markdown",
   "id": "e7a225dd-6d64-443d-8ea2-4c6178e8e889",
   "metadata": {},
   "source": [
    "### **Univariate Analysis 3**"
   ]
  },
  {
   "cell_type": "code",
   "execution_count": 10,
   "id": "7ad781e4-e33a-4d2f-8af8-81d8bdbe1ac5",
   "metadata": {},
   "outputs": [
    {
     "data": {
      "image/png": "[encoded data removed]",
      "text/plain": [
       "<Figure size 2160x2880 with 6 Axes>"
      ]
     },
     "metadata": {
      "needs_background": "light"
     },
     "output_type": "display_data"
    }
   ],
   "source": [
    "features = categorical\n",
    "plt.figure(figsize=(30,40))\n",
    "for i in range(0, len(features)):\n",
    "        plt.subplot(6,3 , i+1)\n",
    "        sns.countplot(x=df[features[i]], color='green')"
   ]
  },
  {
   "cell_type": "markdown",
   "id": "736c9bf3-df04-4fc0-aa04-901086dd7d92",
   "metadata": {},
   "source": [
    "Dari visualisasi bar plot diatas, beberapa insight yang didapat dari feature kategorikal yang ada pada dataset adalah sebagai berikut.\n",
    "1. Mayoritas customer berjenis kelamin perempuan\n",
    "2. Tidak terdapat perbedaan antara jumlah customer yang mengklik pada iklan dan yang tidak mengklik pada iklan \n",
    "3. Mayoritas customer berdomisili di kota Surabaya namun apabila dilihat dari tingkat provinsi maka domisili customer paling dominan adalah DKI Jakarta"
   ]
  },
  {
   "cell_type": "code",
   "execution_count": 11,
   "id": "825e3bf4-cbb6-43d8-80db-2c982d914eb9",
   "metadata": {},
   "outputs": [
    {
     "data": {
      "text/plain": [
       "<AxesSubplot:xlabel='city', ylabel='count'>"
      ]
     },
     "execution_count": 11,
     "metadata": {},
     "output_type": "execute_result"
    },
    {
     "data": {
      "image/png": "[encoded data removed]",
      "text/plain": [
       "<Figure size 5040x2160 with 1 Axes>"
      ]
     },
     "metadata": {
      "needs_background": "light"
     },
     "output_type": "display_data"
    }
   ],
   "source": [
    "plt.figure(figsize=(70,30))\n",
    "plt.subplot(2,3 , i+1)\n",
    "sns.countplot(x=df['city'], color='green')"
   ]
  },
  {
   "cell_type": "code",
   "execution_count": 12,
   "id": "b29a9e6e-e2fd-4f8d-8e16-c23c587d4ae3",
   "metadata": {},
   "outputs": [
    {
     "data": {
      "text/plain": [
       "<AxesSubplot:xlabel='province', ylabel='count'>"
      ]
     },
     "execution_count": 12,
     "metadata": {},
     "output_type": "execute_result"
    },
    {
     "data": {
      "image/png": "[encoded data removed]",
      "text/plain": [
       "<Figure size 5040x2160 with 1 Axes>"
      ]
     },
     "metadata": {
      "needs_background": "light"
     },
     "output_type": "display_data"
    }
   ],
   "source": [
    "plt.figure(figsize=(70,30))\n",
    "plt.subplot(2,3 , i+1)\n",
    "sns.countplot(x=df['province'], color='green')"
   ]
  },
  {
   "cell_type": "markdown",
   "id": "565e4464-bbf2-4573-aea3-8c64a09f0dcb",
   "metadata": {},
   "source": [
    "### **Bivariate Analysis**"
   ]
  },
  {
   "cell_type": "code",
   "execution_count": 13,
   "id": "be5ab129-bc10-4d33-a9ad-23814a632f21",
   "metadata": {},
   "outputs": [],
   "source": [
    "df['customer_age_group']= np.where((df['age'] >= 0) & (df['age'] < 15),'Children (0-14)',\n",
    "                             np.where((df['age'] >= 15) & (df['age'] < 25),'Youth (15-24)',\n",
    "                                      np.where((df['age'] >= 25) & (df['age'] < 45),'Young Adults (25-45)',                                               \n",
    "                                               np.where((df['age'] >= 45) & (df['age'] < 65),'Middle-aged Adults (45-65)','Old-aged Adults (>65)'))))"
   ]
  },
  {
   "cell_type": "code",
   "execution_count": 14,
   "id": "82a4e9e6-da61-4095-a2c3-7bfe77c0bbbf",
   "metadata": {},
   "outputs": [
    {
     "data": {
      "text/html": [
       "<div>\n",
       "<style scoped>\n",
       "    .dataframe tbody tr th:only-of-type {\n",
       "        vertical-align: middle;\n",
       "    }\n",
       "\n",
       "    .dataframe tbody tr th {\n",
       "        vertical-align: top;\n",
       "    }\n",
       "\n",
       "    .dataframe thead th {\n",
       "        text-align: right;\n",
       "    }\n",
       "</style>\n",
       "<table border=\"1\" class=\"dataframe\">\n",
       "  <thead>\n",
       "    <tr style=\"text-align: right;\">\n",
       "      <th></th>\n",
       "      <th>clicked_on_ad</th>\n",
       "      <th>customer_age_group</th>\n",
       "      <th>avg_daily_time_spent</th>\n",
       "      <th>avg_daily_internet_usage</th>\n",
       "    </tr>\n",
       "  </thead>\n",
       "  <tbody>\n",
       "    <tr>\n",
       "      <th>0</th>\n",
       "      <td>No</td>\n",
       "      <td>Middle-aged Adults (45-65)</td>\n",
       "      <td>78.027059</td>\n",
       "      <td>225.595000</td>\n",
       "    </tr>\n",
       "    <tr>\n",
       "      <th>1</th>\n",
       "      <td>No</td>\n",
       "      <td>Young Adults (25-45)</td>\n",
       "      <td>77.466508</td>\n",
       "      <td>215.779953</td>\n",
       "    </tr>\n",
       "    <tr>\n",
       "      <th>2</th>\n",
       "      <td>No</td>\n",
       "      <td>Youth (15-24)</td>\n",
       "      <td>71.106296</td>\n",
       "      <td>201.527885</td>\n",
       "    </tr>\n",
       "    <tr>\n",
       "      <th>3</th>\n",
       "      <td>Yes</td>\n",
       "      <td>Middle-aged Adults (45-65)</td>\n",
       "      <td>53.125476</td>\n",
       "      <td>147.188059</td>\n",
       "    </tr>\n",
       "    <tr>\n",
       "      <th>4</th>\n",
       "      <td>Yes</td>\n",
       "      <td>Young Adults (25-45)</td>\n",
       "      <td>52.664742</td>\n",
       "      <td>143.337152</td>\n",
       "    </tr>\n",
       "    <tr>\n",
       "      <th>5</th>\n",
       "      <td>Yes</td>\n",
       "      <td>Youth (15-24)</td>\n",
       "      <td>62.040588</td>\n",
       "      <td>163.324706</td>\n",
       "    </tr>\n",
       "  </tbody>\n",
       "</table>\n",
       "</div>"
      ],
      "text/plain": [
       "  clicked_on_ad          customer_age_group  avg_daily_time_spent  \\\n",
       "0            No  Middle-aged Adults (45-65)             78.027059   \n",
       "1            No        Young Adults (25-45)             77.466508   \n",
       "2            No               Youth (15-24)             71.106296   \n",
       "3           Yes  Middle-aged Adults (45-65)             53.125476   \n",
       "4           Yes        Young Adults (25-45)             52.664742   \n",
       "5           Yes               Youth (15-24)             62.040588   \n",
       "\n",
       "   avg_daily_internet_usage  \n",
       "0                225.595000  \n",
       "1                215.779953  \n",
       "2                201.527885  \n",
       "3                147.188059  \n",
       "4                143.337152  \n",
       "5                163.324706  "
      ]
     },
     "execution_count": 14,
     "metadata": {},
     "output_type": "execute_result"
    }
   ],
   "source": [
    "df_bi=df[['daily_time_spent_on_site','customer_age_group', 'daily_internet_usage', 'clicked_on_ad']]\n",
    "df_bi=df_bi.groupby(['clicked_on_ad','customer_age_group']).agg({ 'daily_time_spent_on_site' : ['mean'],\n",
    "                                     'daily_internet_usage' : ['mean']}).reset_index()\n",
    "\n",
    "df_bi.columns=['clicked_on_ad','customer_age_group','avg_daily_time_spent','avg_daily_internet_usage']\n",
    "df_bi"
   ]
  },
  {
   "cell_type": "code",
   "execution_count": 15,
   "id": "f9183b2c-a505-478e-9f6d-fbcfdfb7e890",
   "metadata": {},
   "outputs": [
    {
     "data": {
      "text/plain": [
       "Text(0, 0.5, 'Average Daily Time Spent on Site')"
      ]
     },
     "execution_count": 15,
     "metadata": {},
     "output_type": "execute_result"
    },
    {
     "data": {
      "image/png": "[encoded data removed]",
      "text/plain": [
       "<Figure size 1080x720 with 1 Axes>"
      ]
     },
     "metadata": {
      "needs_background": "light"
     },
     "output_type": "display_data"
    }
   ],
   "source": [
    "plt.figure(figsize=(15,10))\n",
    "sns.barplot(x='customer_age_group', y='avg_daily_time_spent', hue='clicked_on_ad', data=df_bi) \n",
    "plt.title('Daily Time Spent on Site by Clicked on Ads per Customer Age Group', fontsize=22, fontweight='bold')\n",
    "\n",
    "plt.xlabel('Customer Age Group', fontsize=18)\n",
    "plt.ylabel('Average Daily Time Spent on Site', fontsize=18)"
   ]
  },
  {
   "cell_type": "markdown",
   "id": "899cfeac-bcab-4dc5-87ae-2787effc77e8",
   "metadata": {},
   "source": [
    "Insight:\n",
    "1. Persentase customer yang menklik iklan lebih banyak pada customer dengan rentang umur 15-24 tahun (Youth)\n",
    "2. Semakin lama customer menghabiskan waktunya pada situs maka tingkat kemungkinan customer akan mengklik pada iklan juga akan semakin kecil"
   ]
  },
  {
   "cell_type": "code",
   "execution_count": 16,
   "id": "9585cee3-9380-4f1e-86ad-50bc287c2948",
   "metadata": {},
   "outputs": [
    {
     "data": {
      "text/plain": [
       "Text(0, 0.5, 'Average Daily Internet Usage')"
      ]
     },
     "execution_count": 16,
     "metadata": {},
     "output_type": "execute_result"
    },
    {
     "data": {
      "image/png": "[encoded data removed]",
      "text/plain": [
       "<Figure size 1080x720 with 1 Axes>"
      ]
     },
     "metadata": {
      "needs_background": "light"
     },
     "output_type": "display_data"
    }
   ],
   "source": [
    "plt.figure(figsize=(15,10))\n",
    "sns.barplot(x='customer_age_group', y='avg_daily_internet_usage', hue='clicked_on_ad', data=df_bi) \n",
    "plt.title('Daily Internet Usage by Clicked on Ads per Customer Age Group', fontsize=22, fontweight='bold')\n",
    "\n",
    "plt.xlabel('Customer Age Group', fontsize=18)\n",
    "plt.ylabel('Average Daily Internet Usage', fontsize=18)"
   ]
  },
  {
   "cell_type": "markdown",
   "id": "26b5378f-c411-422e-aab2-84832ea3070d",
   "metadata": {},
   "source": [
    "Insight:\n",
    "1. Dari dataset ini kita mendapati bahwa customer yang lebih banyak menghabiskan waktunya menggunakan internet akan berpeluang lebih tinggi untuk tidak mengklik pada iklan\n",
    "2. Persentase customer yang menklik iklan lebih banyak pada customer dengan rentang umur 15-24 tahun (Youth)"
   ]
  },
  {
   "cell_type": "markdown",
   "id": "b2d6a702-616d-4457-bac9-0e3d91f4914e",
   "metadata": {},
   "source": [
    "### **Multivariate Analysis**"
   ]
  },
  {
   "cell_type": "code",
   "execution_count": 17,
   "id": "d7b08a1d-ad93-44c1-8208-42685546cbff",
   "metadata": {},
   "outputs": [
    {
     "data": {
      "text/plain": [
       "<AxesSubplot:>"
      ]
     },
     "execution_count": 17,
     "metadata": {},
     "output_type": "execute_result"
    },
    {
     "data": {
      "image/png": "[encoded data removed]",
      "text/plain": [
       "<Figure size 2160x720 with 2 Axes>"
      ]
     },
     "metadata": {
      "needs_background": "light"
     },
     "output_type": "display_data"
    }
   ],
   "source": [
    "plt.figure(figsize=(30, 10))\n",
    "mask = np.triu(np.ones_like(df.corr(), dtype=np.bool))\n",
    "sns.heatmap(df.corr(), mask=mask, vmin=-1, vmax=1, annot=True, cmap='YlGnBu')"
   ]
  },
  {
   "cell_type": "markdown",
   "id": "6184687b-55ab-45d0-b29b-e8f0c4801f4c",
   "metadata": {},
   "source": [
    "Dari visualisasi berupa Correlation Heat Map diatas didapati bahwa tidak terdapat feature yang memiliki korelasi yang kuat atau positif dengan nilai korelasi diatas 0.7. Nilai korelasi feature yang paling mendekati dengan 0.7 yaitu berada diantara feature daily_time_spent_on_site dengan feature daily_internet_usage dengan nilai korelasi 0.5. Hal ini menandakan bahwa semakin lama customer menghabiskan waktunya pada website maka semakin lama pula penggunaan internet customer tersebut."
   ]
  },
  {
   "cell_type": "markdown",
   "id": "4df752d2-66d0-4c9a-86ec-f936f0d6a91f",
   "metadata": {},
   "source": [
    "## **Data Pre-Processing**"
   ]
  },
  {
   "cell_type": "code",
   "execution_count": 18,
   "id": "ae467797-aed2-4d2a-939d-a2056c92ac1e",
   "metadata": {},
   "outputs": [
    {
     "data": {
      "text/html": [
       "<div>\n",
       "<style scoped>\n",
       "    .dataframe tbody tr th:only-of-type {\n",
       "        vertical-align: middle;\n",
       "    }\n",
       "\n",
       "    .dataframe tbody tr th {\n",
       "        vertical-align: top;\n",
       "    }\n",
       "\n",
       "    .dataframe thead th {\n",
       "        text-align: right;\n",
       "    }\n",
       "</style>\n",
       "<table border=\"1\" class=\"dataframe\">\n",
       "  <thead>\n",
       "    <tr style=\"text-align: right;\">\n",
       "      <th></th>\n",
       "      <th>index</th>\n",
       "      <th>daily_time_spent_on_site</th>\n",
       "      <th>age</th>\n",
       "      <th>area_income</th>\n",
       "      <th>daily_internet_usage</th>\n",
       "      <th>gender</th>\n",
       "      <th>timestamp</th>\n",
       "      <th>clicked_on_ad</th>\n",
       "      <th>city</th>\n",
       "      <th>province</th>\n",
       "      <th>category</th>\n",
       "      <th>customer_age_group</th>\n",
       "    </tr>\n",
       "  </thead>\n",
       "  <tbody>\n",
       "    <tr>\n",
       "      <th>0</th>\n",
       "      <td>0</td>\n",
       "      <td>68.95</td>\n",
       "      <td>35</td>\n",
       "      <td>432837300.0</td>\n",
       "      <td>256.09</td>\n",
       "      <td>Perempuan</td>\n",
       "      <td>3/27/2016 0:53</td>\n",
       "      <td>No</td>\n",
       "      <td>Jakarta Timur</td>\n",
       "      <td>Daerah Khusus Ibukota Jakarta</td>\n",
       "      <td>Furniture</td>\n",
       "      <td>Young Adults (25-45)</td>\n",
       "    </tr>\n",
       "    <tr>\n",
       "      <th>1</th>\n",
       "      <td>1</td>\n",
       "      <td>80.23</td>\n",
       "      <td>31</td>\n",
       "      <td>479092950.0</td>\n",
       "      <td>193.77</td>\n",
       "      <td>Laki-Laki</td>\n",
       "      <td>4/4/2016 1:39</td>\n",
       "      <td>No</td>\n",
       "      <td>Denpasar</td>\n",
       "      <td>Bali</td>\n",
       "      <td>Food</td>\n",
       "      <td>Young Adults (25-45)</td>\n",
       "    </tr>\n",
       "    <tr>\n",
       "      <th>2</th>\n",
       "      <td>2</td>\n",
       "      <td>69.47</td>\n",
       "      <td>26</td>\n",
       "      <td>418501580.0</td>\n",
       "      <td>236.50</td>\n",
       "      <td>Perempuan</td>\n",
       "      <td>3/13/2016 20:35</td>\n",
       "      <td>No</td>\n",
       "      <td>Surabaya</td>\n",
       "      <td>Jawa Timur</td>\n",
       "      <td>Electronic</td>\n",
       "      <td>Young Adults (25-45)</td>\n",
       "    </tr>\n",
       "    <tr>\n",
       "      <th>3</th>\n",
       "      <td>3</td>\n",
       "      <td>74.15</td>\n",
       "      <td>29</td>\n",
       "      <td>383643260.0</td>\n",
       "      <td>245.89</td>\n",
       "      <td>Laki-Laki</td>\n",
       "      <td>1/10/2016 2:31</td>\n",
       "      <td>No</td>\n",
       "      <td>Batam</td>\n",
       "      <td>Kepulauan Riau</td>\n",
       "      <td>House</td>\n",
       "      <td>Young Adults (25-45)</td>\n",
       "    </tr>\n",
       "    <tr>\n",
       "      <th>4</th>\n",
       "      <td>4</td>\n",
       "      <td>68.37</td>\n",
       "      <td>35</td>\n",
       "      <td>517229930.0</td>\n",
       "      <td>225.58</td>\n",
       "      <td>Perempuan</td>\n",
       "      <td>6/3/2016 3:36</td>\n",
       "      <td>No</td>\n",
       "      <td>Medan</td>\n",
       "      <td>Sumatra Utara</td>\n",
       "      <td>Finance</td>\n",
       "      <td>Young Adults (25-45)</td>\n",
       "    </tr>\n",
       "    <tr>\n",
       "      <th>...</th>\n",
       "      <td>...</td>\n",
       "      <td>...</td>\n",
       "      <td>...</td>\n",
       "      <td>...</td>\n",
       "      <td>...</td>\n",
       "      <td>...</td>\n",
       "      <td>...</td>\n",
       "      <td>...</td>\n",
       "      <td>...</td>\n",
       "      <td>...</td>\n",
       "      <td>...</td>\n",
       "      <td>...</td>\n",
       "    </tr>\n",
       "    <tr>\n",
       "      <th>995</th>\n",
       "      <td>995</td>\n",
       "      <td>72.97</td>\n",
       "      <td>30</td>\n",
       "      <td>499691990.0</td>\n",
       "      <td>208.58</td>\n",
       "      <td>Laki-Laki</td>\n",
       "      <td>2/11/2016 21:49</td>\n",
       "      <td>Yes</td>\n",
       "      <td>Semarang</td>\n",
       "      <td>Jawa Tengah</td>\n",
       "      <td>Finance</td>\n",
       "      <td>Young Adults (25-45)</td>\n",
       "    </tr>\n",
       "    <tr>\n",
       "      <th>996</th>\n",
       "      <td>996</td>\n",
       "      <td>51.30</td>\n",
       "      <td>45</td>\n",
       "      <td>474475190.0</td>\n",
       "      <td>134.42</td>\n",
       "      <td>Laki-Laki</td>\n",
       "      <td>4/22/2016 2:07</td>\n",
       "      <td>Yes</td>\n",
       "      <td>Pakanbaru</td>\n",
       "      <td>Riau</td>\n",
       "      <td>Electronic</td>\n",
       "      <td>Middle-aged Adults (45-65)</td>\n",
       "    </tr>\n",
       "    <tr>\n",
       "      <th>997</th>\n",
       "      <td>997</td>\n",
       "      <td>NaN</td>\n",
       "      <td>51</td>\n",
       "      <td>296910040.0</td>\n",
       "      <td>120.37</td>\n",
       "      <td>Laki-Laki</td>\n",
       "      <td>2/1/2016 17:24</td>\n",
       "      <td>Yes</td>\n",
       "      <td>Samarinda</td>\n",
       "      <td>Kalimantan Timur</td>\n",
       "      <td>Travel</td>\n",
       "      <td>Middle-aged Adults (45-65)</td>\n",
       "    </tr>\n",
       "    <tr>\n",
       "      <th>998</th>\n",
       "      <td>998</td>\n",
       "      <td>55.55</td>\n",
       "      <td>19</td>\n",
       "      <td>293445530.0</td>\n",
       "      <td>187.95</td>\n",
       "      <td>Perempuan</td>\n",
       "      <td>3/24/2016 2:35</td>\n",
       "      <td>No</td>\n",
       "      <td>Tangerang</td>\n",
       "      <td>Banten</td>\n",
       "      <td>Bank</td>\n",
       "      <td>Youth (15-24)</td>\n",
       "    </tr>\n",
       "    <tr>\n",
       "      <th>999</th>\n",
       "      <td>999</td>\n",
       "      <td>45.01</td>\n",
       "      <td>26</td>\n",
       "      <td>209130600.0</td>\n",
       "      <td>178.35</td>\n",
       "      <td>Perempuan</td>\n",
       "      <td>6/3/2016 21:43</td>\n",
       "      <td>Yes</td>\n",
       "      <td>Serang</td>\n",
       "      <td>Banten</td>\n",
       "      <td>Travel</td>\n",
       "      <td>Young Adults (25-45)</td>\n",
       "    </tr>\n",
       "  </tbody>\n",
       "</table>\n",
       "<p>1000 rows × 12 columns</p>\n",
       "</div>"
      ],
      "text/plain": [
       "     index  daily_time_spent_on_site  age  area_income  daily_internet_usage  \\\n",
       "0        0                     68.95   35  432837300.0                256.09   \n",
       "1        1                     80.23   31  479092950.0                193.77   \n",
       "2        2                     69.47   26  418501580.0                236.50   \n",
       "3        3                     74.15   29  383643260.0                245.89   \n",
       "4        4                     68.37   35  517229930.0                225.58   \n",
       "..     ...                       ...  ...          ...                   ...   \n",
       "995    995                     72.97   30  499691990.0                208.58   \n",
       "996    996                     51.30   45  474475190.0                134.42   \n",
       "997    997                       NaN   51  296910040.0                120.37   \n",
       "998    998                     55.55   19  293445530.0                187.95   \n",
       "999    999                     45.01   26  209130600.0                178.35   \n",
       "\n",
       "        gender        timestamp clicked_on_ad           city  \\\n",
       "0    Perempuan   3/27/2016 0:53            No  Jakarta Timur   \n",
       "1    Laki-Laki    4/4/2016 1:39            No       Denpasar   \n",
       "2    Perempuan  3/13/2016 20:35            No       Surabaya   \n",
       "3    Laki-Laki   1/10/2016 2:31            No          Batam   \n",
       "4    Perempuan    6/3/2016 3:36            No          Medan   \n",
       "..         ...              ...           ...            ...   \n",
       "995  Laki-Laki  2/11/2016 21:49           Yes       Semarang   \n",
       "996  Laki-Laki   4/22/2016 2:07           Yes      Pakanbaru   \n",
       "997  Laki-Laki   2/1/2016 17:24           Yes      Samarinda   \n",
       "998  Perempuan   3/24/2016 2:35            No      Tangerang   \n",
       "999  Perempuan   6/3/2016 21:43           Yes         Serang   \n",
       "\n",
       "                          province    category          customer_age_group  \n",
       "0    Daerah Khusus Ibukota Jakarta   Furniture        Young Adults (25-45)  \n",
       "1                             Bali        Food        Young Adults (25-45)  \n",
       "2                       Jawa Timur  Electronic        Young Adults (25-45)  \n",
       "3                   Kepulauan Riau       House        Young Adults (25-45)  \n",
       "4                    Sumatra Utara     Finance        Young Adults (25-45)  \n",
       "..                             ...         ...                         ...  \n",
       "995                    Jawa Tengah     Finance        Young Adults (25-45)  \n",
       "996                           Riau  Electronic  Middle-aged Adults (45-65)  \n",
       "997               Kalimantan Timur      Travel  Middle-aged Adults (45-65)  \n",
       "998                         Banten        Bank               Youth (15-24)  \n",
       "999                         Banten      Travel        Young Adults (25-45)  \n",
       "\n",
       "[1000 rows x 12 columns]"
      ]
     },
     "execution_count": 18,
     "metadata": {},
     "output_type": "execute_result"
    }
   ],
   "source": [
    "df_clean=df.copy()\n",
    "df_clean"
   ]
  },
  {
   "cell_type": "markdown",
   "id": "838ecf5a-70d3-484f-a0b3-30ed88552b58",
   "metadata": {},
   "source": [
    "### Missing Value"
   ]
  },
  {
   "cell_type": "code",
   "execution_count": 19,
   "id": "c56c1f61-48d0-4c0e-8515-981ec506abbb",
   "metadata": {},
   "outputs": [
    {
     "data": {
      "text/plain": [
       "index                       0.0\n",
       "daily_time_spent_on_site    1.3\n",
       "age                         0.0\n",
       "area_income                 1.3\n",
       "daily_internet_usage        1.1\n",
       "gender                      0.3\n",
       "timestamp                   0.0\n",
       "clicked_on_ad               0.0\n",
       "city                        0.0\n",
       "province                    0.0\n",
       "category                    0.0\n",
       "customer_age_group          0.0\n",
       "dtype: float64"
      ]
     },
     "execution_count": 19,
     "metadata": {},
     "output_type": "execute_result"
    }
   ],
   "source": [
    "df_clean.isnull().mean() * 100"
   ]
  },
  {
   "cell_type": "markdown",
   "id": "df201ef0-d40f-422d-8033-d7b54762797a",
   "metadata": {},
   "source": [
    "Treatment:\n",
    "1. Untuk feature dengan persentase missing value diatas 0 dan dibawah 1 maka row yang memiliki missing value tersebut akan didrop \n",
    "2. Untuk feature dengan persentase missing value diatas 1 akan diisi dengan metode interpolation"
   ]
  },
  {
   "cell_type": "code",
   "execution_count": 20,
   "id": "f79b88a2-9a50-46bf-b137-8d9b6c301c99",
   "metadata": {},
   "outputs": [],
   "source": [
    "df_clean.dropna(subset=['gender'], inplace=True)"
   ]
  },
  {
   "cell_type": "code",
   "execution_count": 21,
   "id": "09ca0fbd-dc25-4fff-bd3e-99a3ed49dfbc",
   "metadata": {},
   "outputs": [],
   "source": [
    "##Isi dengan modus"
   ]
  },
  {
   "cell_type": "code",
   "execution_count": 22,
   "id": "25c38d0c-4a13-4f8a-8dff-2b28df57d1c8",
   "metadata": {},
   "outputs": [],
   "source": [
    "##df_clean['daily time spent on site'].fillna(df_clean['daily time spent on site'].mode()[0], inplace = True)\n",
    "##df_clean['area income'].fillna(df_clean['area income'].mode()[0], inplace = True)\n",
    "##df_clean['daily internet usage'].fillna(df_clean['daily internet usage'].mode()[0], inplace = True)"
   ]
  },
  {
   "cell_type": "markdown",
   "id": "cc7df94f-a734-4abc-80a5-fffb9a1506e9",
   "metadata": {},
   "source": [
    "isi dengan interpolation (metode pengisian missing value yang tidak merubah sebaran data)"
   ]
  },
  {
   "cell_type": "code",
   "execution_count": 23,
   "id": "fef385e7-e29f-47b7-b9df-812d1c119747",
   "metadata": {},
   "outputs": [],
   "source": [
    "df_clean.interpolate(method ='linear', limit_direction ='both',inplace=True)"
   ]
  },
  {
   "cell_type": "code",
   "execution_count": 24,
   "id": "6b0cfa51-86c9-46e2-bdd0-0b552ffbe637",
   "metadata": {},
   "outputs": [
    {
     "data": {
      "text/plain": [
       "index                       0.0\n",
       "daily_time_spent_on_site    0.0\n",
       "age                         0.0\n",
       "area_income                 0.0\n",
       "daily_internet_usage        0.0\n",
       "gender                      0.0\n",
       "timestamp                   0.0\n",
       "clicked_on_ad               0.0\n",
       "city                        0.0\n",
       "province                    0.0\n",
       "category                    0.0\n",
       "customer_age_group          0.0\n",
       "dtype: float64"
      ]
     },
     "execution_count": 24,
     "metadata": {},
     "output_type": "execute_result"
    }
   ],
   "source": [
    "df_clean.isnull().mean() * 100"
   ]
  },
  {
   "cell_type": "markdown",
   "id": "75ac8c65-43c1-4063-aa84-181ce9746da4",
   "metadata": {},
   "source": [
    "### Duplicated Value"
   ]
  },
  {
   "cell_type": "code",
   "execution_count": 25,
   "id": "3d964670-2541-438c-a4d1-60032305f3a7",
   "metadata": {},
   "outputs": [
    {
     "data": {
      "text/plain": [
       "0"
      ]
     },
     "execution_count": 25,
     "metadata": {},
     "output_type": "execute_result"
    }
   ],
   "source": [
    "df_clean.duplicated().sum()"
   ]
  },
  {
   "cell_type": "markdown",
   "id": "458820bd-da79-4e72-a2b0-5e43b350bd9f",
   "metadata": {},
   "source": [
    "### Extract Timestamp"
   ]
  },
  {
   "cell_type": "code",
   "execution_count": 26,
   "id": "d5f1b617-a9de-4e87-a178-a18ca1ab3093",
   "metadata": {},
   "outputs": [
    {
     "name": "stdout",
     "output_type": "stream",
     "text": [
      "<class 'pandas.core.frame.DataFrame'>\n",
      "Int64Index: 997 entries, 0 to 999\n",
      "Data columns (total 12 columns):\n",
      " #   Column                    Non-Null Count  Dtype  \n",
      "---  ------                    --------------  -----  \n",
      " 0   index                     997 non-null    int64  \n",
      " 1   daily_time_spent_on_site  997 non-null    float64\n",
      " 2   age                       997 non-null    int64  \n",
      " 3   area_income               997 non-null    float64\n",
      " 4   daily_internet_usage      997 non-null    float64\n",
      " 5   gender                    997 non-null    object \n",
      " 6   timestamp                 997 non-null    object \n",
      " 7   clicked_on_ad             997 non-null    object \n",
      " 8   city                      997 non-null    object \n",
      " 9   province                  997 non-null    object \n",
      " 10  category                  997 non-null    object \n",
      " 11  customer_age_group        997 non-null    object \n",
      "dtypes: float64(3), int64(2), object(7)\n",
      "memory usage: 101.3+ KB\n"
     ]
    }
   ],
   "source": [
    "df_clean.info()"
   ]
  },
  {
   "cell_type": "code",
   "execution_count": 27,
   "id": "b0db1c05-24e6-4cd7-9a72-ded5f9cf872c",
   "metadata": {},
   "outputs": [
    {
     "name": "stdout",
     "output_type": "stream",
     "text": [
      "<class 'pandas.core.frame.DataFrame'>\n",
      "Int64Index: 997 entries, 0 to 999\n",
      "Data columns (total 12 columns):\n",
      " #   Column                    Non-Null Count  Dtype         \n",
      "---  ------                    --------------  -----         \n",
      " 0   index                     997 non-null    int64         \n",
      " 1   daily_time_spent_on_site  997 non-null    float64       \n",
      " 2   age                       997 non-null    int64         \n",
      " 3   area_income               997 non-null    float64       \n",
      " 4   daily_internet_usage      997 non-null    float64       \n",
      " 5   gender                    997 non-null    object        \n",
      " 6   timestamp                 997 non-null    datetime64[ns]\n",
      " 7   clicked_on_ad             997 non-null    object        \n",
      " 8   city                      997 non-null    object        \n",
      " 9   province                  997 non-null    object        \n",
      " 10  category                  997 non-null    object        \n",
      " 11  customer_age_group        997 non-null    object        \n",
      "dtypes: datetime64[ns](1), float64(3), int64(2), object(6)\n",
      "memory usage: 101.3+ KB\n"
     ]
    }
   ],
   "source": [
    "df_clean['timestamp']=pd.to_datetime(df['timestamp'])\n",
    "df_clean.info()"
   ]
  },
  {
   "cell_type": "code",
   "execution_count": 28,
   "id": "7146df33-1f01-462e-9d29-073da34add76",
   "metadata": {},
   "outputs": [
    {
     "data": {
      "text/plain": [
       "0     2016-03-27 00:53:00\n",
       "1     2016-04-04 01:39:00\n",
       "2     2016-03-13 20:35:00\n",
       "3     2016-01-10 02:31:00\n",
       "4     2016-06-03 03:36:00\n",
       "              ...        \n",
       "995   2016-02-11 21:49:00\n",
       "996   2016-04-22 02:07:00\n",
       "997   2016-02-01 17:24:00\n",
       "998   2016-03-24 02:35:00\n",
       "999   2016-06-03 21:43:00\n",
       "Name: timestamp, Length: 997, dtype: datetime64[ns]"
      ]
     },
     "execution_count": 28,
     "metadata": {},
     "output_type": "execute_result"
    }
   ],
   "source": [
    "df_clean['timestamp']"
   ]
  },
  {
   "cell_type": "code",
   "execution_count": 29,
   "id": "ba85b9d3-e4d3-4bd1-a609-dad6c7eef1bc",
   "metadata": {},
   "outputs": [
    {
     "data": {
      "text/plain": [
       "0      2016\n",
       "1      2016\n",
       "2      2016\n",
       "3      2016\n",
       "4      2016\n",
       "       ... \n",
       "995    2016\n",
       "996    2016\n",
       "997    2016\n",
       "998    2016\n",
       "999    2016\n",
       "Name: tahun, Length: 997, dtype: int64"
      ]
     },
     "execution_count": 29,
     "metadata": {},
     "output_type": "execute_result"
    }
   ],
   "source": [
    "df_clean['tahun']=pd.DatetimeIndex(df_clean['timestamp']).year\n",
    "df_clean['tahun']"
   ]
  },
  {
   "cell_type": "code",
   "execution_count": 30,
   "id": "b0b8c452-f359-4235-8989-afbb02448354",
   "metadata": {},
   "outputs": [
    {
     "data": {
      "text/plain": [
       "1    147\n",
       "2    160\n",
       "3    155\n",
       "4    146\n",
       "5    147\n",
       "6    141\n",
       "7    101\n",
       "Name: bulan, dtype: int64"
      ]
     },
     "execution_count": 30,
     "metadata": {},
     "output_type": "execute_result"
    }
   ],
   "source": [
    "df_clean['bulan']=pd.DatetimeIndex(df_clean['timestamp']).month\n",
    "df_clean['bulan'].value_counts().sort_index()"
   ]
  },
  {
   "cell_type": "code",
   "execution_count": 31,
   "id": "38153158-30f4-4969-8eeb-946580a17321",
   "metadata": {},
   "outputs": [
    {
     "data": {
      "text/plain": [
       "1     40\n",
       "2     32\n",
       "3     23\n",
       "4     33\n",
       "5     31\n",
       "6     49\n",
       "7     39\n",
       "8     36\n",
       "9     31\n",
       "10    35\n",
       "11    39\n",
       "12    39\n",
       "13    26\n",
       "14    43\n",
       "15    29\n",
       "16    38\n",
       "17    31\n",
       "18    31\n",
       "19    28\n",
       "20    26\n",
       "21    39\n",
       "22    42\n",
       "23    28\n",
       "24    39\n",
       "25    31\n",
       "26    30\n",
       "27    31\n",
       "28    30\n",
       "29    29\n",
       "53    19\n",
       "Name: pekan, dtype: int64"
      ]
     },
     "execution_count": 31,
     "metadata": {},
     "output_type": "execute_result"
    }
   ],
   "source": [
    "df_clean['pekan']=pd.DatetimeIndex(df_clean['timestamp']).week\n",
    "df_clean['pekan'].value_counts().sort_index()"
   ]
  },
  {
   "cell_type": "code",
   "execution_count": 32,
   "id": "cbb44226-75f1-4d7e-bb2e-4bd5b7077a70",
   "metadata": {},
   "outputs": [
    {
     "data": {
      "text/plain": [
       "1     33\n",
       "2     25\n",
       "3     46\n",
       "4     36\n",
       "5     35\n",
       "6     25\n",
       "7     32\n",
       "8     35\n",
       "9     34\n",
       "10    37\n",
       "11    32\n",
       "12    29\n",
       "13    30\n",
       "14    33\n",
       "15    41\n",
       "16    35\n",
       "17    41\n",
       "18    35\n",
       "19    29\n",
       "20    33\n",
       "21    32\n",
       "22    24\n",
       "23    35\n",
       "24    33\n",
       "25    23\n",
       "26    35\n",
       "27    35\n",
       "28    30\n",
       "29    28\n",
       "30    28\n",
       "31    18\n",
       "Name: hari, dtype: int64"
      ]
     },
     "execution_count": 32,
     "metadata": {},
     "output_type": "execute_result"
    }
   ],
   "source": [
    "df_clean['hari']=pd.DatetimeIndex(df_clean['timestamp']).day\n",
    "df_clean['hari'].value_counts().sort_index()"
   ]
  },
  {
   "cell_type": "code",
   "execution_count": 33,
   "id": "96b37bce-0845-4b6b-ad94-7656a7c57ddc",
   "metadata": {},
   "outputs": [],
   "source": [
    "df_clean.drop(columns=['index'], inplace=True)"
   ]
  },
  {
   "cell_type": "code",
   "execution_count": 34,
   "id": "da1d3eca-87fe-4504-84ae-e32c8afff87d",
   "metadata": {},
   "outputs": [
    {
     "data": {
      "text/html": [
       "<div>\n",
       "<style scoped>\n",
       "    .dataframe tbody tr th:only-of-type {\n",
       "        vertical-align: middle;\n",
       "    }\n",
       "\n",
       "    .dataframe tbody tr th {\n",
       "        vertical-align: top;\n",
       "    }\n",
       "\n",
       "    .dataframe thead th {\n",
       "        text-align: right;\n",
       "    }\n",
       "</style>\n",
       "<table border=\"1\" class=\"dataframe\">\n",
       "  <thead>\n",
       "    <tr style=\"text-align: right;\">\n",
       "      <th></th>\n",
       "      <th>daily_time_spent_on_site</th>\n",
       "      <th>age</th>\n",
       "      <th>area_income</th>\n",
       "      <th>daily_internet_usage</th>\n",
       "      <th>gender</th>\n",
       "      <th>timestamp</th>\n",
       "      <th>clicked_on_ad</th>\n",
       "      <th>city</th>\n",
       "      <th>province</th>\n",
       "      <th>category</th>\n",
       "      <th>customer_age_group</th>\n",
       "      <th>tahun</th>\n",
       "      <th>bulan</th>\n",
       "      <th>pekan</th>\n",
       "      <th>hari</th>\n",
       "    </tr>\n",
       "  </thead>\n",
       "  <tbody>\n",
       "    <tr>\n",
       "      <th>0</th>\n",
       "      <td>68.950</td>\n",
       "      <td>35</td>\n",
       "      <td>432837300.0</td>\n",
       "      <td>256.09</td>\n",
       "      <td>Perempuan</td>\n",
       "      <td>2016-03-27 00:53:00</td>\n",
       "      <td>No</td>\n",
       "      <td>Jakarta Timur</td>\n",
       "      <td>Daerah Khusus Ibukota Jakarta</td>\n",
       "      <td>Furniture</td>\n",
       "      <td>Young Adults (25-45)</td>\n",
       "      <td>2016</td>\n",
       "      <td>3</td>\n",
       "      <td>12</td>\n",
       "      <td>27</td>\n",
       "    </tr>\n",
       "    <tr>\n",
       "      <th>1</th>\n",
       "      <td>80.230</td>\n",
       "      <td>31</td>\n",
       "      <td>479092950.0</td>\n",
       "      <td>193.77</td>\n",
       "      <td>Laki-Laki</td>\n",
       "      <td>2016-04-04 01:39:00</td>\n",
       "      <td>No</td>\n",
       "      <td>Denpasar</td>\n",
       "      <td>Bali</td>\n",
       "      <td>Food</td>\n",
       "      <td>Young Adults (25-45)</td>\n",
       "      <td>2016</td>\n",
       "      <td>4</td>\n",
       "      <td>14</td>\n",
       "      <td>4</td>\n",
       "    </tr>\n",
       "    <tr>\n",
       "      <th>2</th>\n",
       "      <td>69.470</td>\n",
       "      <td>26</td>\n",
       "      <td>418501580.0</td>\n",
       "      <td>236.50</td>\n",
       "      <td>Perempuan</td>\n",
       "      <td>2016-03-13 20:35:00</td>\n",
       "      <td>No</td>\n",
       "      <td>Surabaya</td>\n",
       "      <td>Jawa Timur</td>\n",
       "      <td>Electronic</td>\n",
       "      <td>Young Adults (25-45)</td>\n",
       "      <td>2016</td>\n",
       "      <td>3</td>\n",
       "      <td>10</td>\n",
       "      <td>13</td>\n",
       "    </tr>\n",
       "    <tr>\n",
       "      <th>3</th>\n",
       "      <td>74.150</td>\n",
       "      <td>29</td>\n",
       "      <td>383643260.0</td>\n",
       "      <td>245.89</td>\n",
       "      <td>Laki-Laki</td>\n",
       "      <td>2016-01-10 02:31:00</td>\n",
       "      <td>No</td>\n",
       "      <td>Batam</td>\n",
       "      <td>Kepulauan Riau</td>\n",
       "      <td>House</td>\n",
       "      <td>Young Adults (25-45)</td>\n",
       "      <td>2016</td>\n",
       "      <td>1</td>\n",
       "      <td>1</td>\n",
       "      <td>10</td>\n",
       "    </tr>\n",
       "    <tr>\n",
       "      <th>4</th>\n",
       "      <td>68.370</td>\n",
       "      <td>35</td>\n",
       "      <td>517229930.0</td>\n",
       "      <td>225.58</td>\n",
       "      <td>Perempuan</td>\n",
       "      <td>2016-06-03 03:36:00</td>\n",
       "      <td>No</td>\n",
       "      <td>Medan</td>\n",
       "      <td>Sumatra Utara</td>\n",
       "      <td>Finance</td>\n",
       "      <td>Young Adults (25-45)</td>\n",
       "      <td>2016</td>\n",
       "      <td>6</td>\n",
       "      <td>22</td>\n",
       "      <td>3</td>\n",
       "    </tr>\n",
       "    <tr>\n",
       "      <th>...</th>\n",
       "      <td>...</td>\n",
       "      <td>...</td>\n",
       "      <td>...</td>\n",
       "      <td>...</td>\n",
       "      <td>...</td>\n",
       "      <td>...</td>\n",
       "      <td>...</td>\n",
       "      <td>...</td>\n",
       "      <td>...</td>\n",
       "      <td>...</td>\n",
       "      <td>...</td>\n",
       "      <td>...</td>\n",
       "      <td>...</td>\n",
       "      <td>...</td>\n",
       "      <td>...</td>\n",
       "    </tr>\n",
       "    <tr>\n",
       "      <th>995</th>\n",
       "      <td>72.970</td>\n",
       "      <td>30</td>\n",
       "      <td>499691990.0</td>\n",
       "      <td>208.58</td>\n",
       "      <td>Laki-Laki</td>\n",
       "      <td>2016-02-11 21:49:00</td>\n",
       "      <td>Yes</td>\n",
       "      <td>Semarang</td>\n",
       "      <td>Jawa Tengah</td>\n",
       "      <td>Finance</td>\n",
       "      <td>Young Adults (25-45)</td>\n",
       "      <td>2016</td>\n",
       "      <td>2</td>\n",
       "      <td>6</td>\n",
       "      <td>11</td>\n",
       "    </tr>\n",
       "    <tr>\n",
       "      <th>996</th>\n",
       "      <td>51.300</td>\n",
       "      <td>45</td>\n",
       "      <td>474475190.0</td>\n",
       "      <td>134.42</td>\n",
       "      <td>Laki-Laki</td>\n",
       "      <td>2016-04-22 02:07:00</td>\n",
       "      <td>Yes</td>\n",
       "      <td>Pakanbaru</td>\n",
       "      <td>Riau</td>\n",
       "      <td>Electronic</td>\n",
       "      <td>Middle-aged Adults (45-65)</td>\n",
       "      <td>2016</td>\n",
       "      <td>4</td>\n",
       "      <td>16</td>\n",
       "      <td>22</td>\n",
       "    </tr>\n",
       "    <tr>\n",
       "      <th>997</th>\n",
       "      <td>53.425</td>\n",
       "      <td>51</td>\n",
       "      <td>296910040.0</td>\n",
       "      <td>120.37</td>\n",
       "      <td>Laki-Laki</td>\n",
       "      <td>2016-02-01 17:24:00</td>\n",
       "      <td>Yes</td>\n",
       "      <td>Samarinda</td>\n",
       "      <td>Kalimantan Timur</td>\n",
       "      <td>Travel</td>\n",
       "      <td>Middle-aged Adults (45-65)</td>\n",
       "      <td>2016</td>\n",
       "      <td>2</td>\n",
       "      <td>5</td>\n",
       "      <td>1</td>\n",
       "    </tr>\n",
       "    <tr>\n",
       "      <th>998</th>\n",
       "      <td>55.550</td>\n",
       "      <td>19</td>\n",
       "      <td>293445530.0</td>\n",
       "      <td>187.95</td>\n",
       "      <td>Perempuan</td>\n",
       "      <td>2016-03-24 02:35:00</td>\n",
       "      <td>No</td>\n",
       "      <td>Tangerang</td>\n",
       "      <td>Banten</td>\n",
       "      <td>Bank</td>\n",
       "      <td>Youth (15-24)</td>\n",
       "      <td>2016</td>\n",
       "      <td>3</td>\n",
       "      <td>12</td>\n",
       "      <td>24</td>\n",
       "    </tr>\n",
       "    <tr>\n",
       "      <th>999</th>\n",
       "      <td>45.010</td>\n",
       "      <td>26</td>\n",
       "      <td>209130600.0</td>\n",
       "      <td>178.35</td>\n",
       "      <td>Perempuan</td>\n",
       "      <td>2016-06-03 21:43:00</td>\n",
       "      <td>Yes</td>\n",
       "      <td>Serang</td>\n",
       "      <td>Banten</td>\n",
       "      <td>Travel</td>\n",
       "      <td>Young Adults (25-45)</td>\n",
       "      <td>2016</td>\n",
       "      <td>6</td>\n",
       "      <td>22</td>\n",
       "      <td>3</td>\n",
       "    </tr>\n",
       "  </tbody>\n",
       "</table>\n",
       "<p>997 rows × 15 columns</p>\n",
       "</div>"
      ],
      "text/plain": [
       "     daily_time_spent_on_site  age  area_income  daily_internet_usage  \\\n",
       "0                      68.950   35  432837300.0                256.09   \n",
       "1                      80.230   31  479092950.0                193.77   \n",
       "2                      69.470   26  418501580.0                236.50   \n",
       "3                      74.150   29  383643260.0                245.89   \n",
       "4                      68.370   35  517229930.0                225.58   \n",
       "..                        ...  ...          ...                   ...   \n",
       "995                    72.970   30  499691990.0                208.58   \n",
       "996                    51.300   45  474475190.0                134.42   \n",
       "997                    53.425   51  296910040.0                120.37   \n",
       "998                    55.550   19  293445530.0                187.95   \n",
       "999                    45.010   26  209130600.0                178.35   \n",
       "\n",
       "        gender           timestamp clicked_on_ad           city  \\\n",
       "0    Perempuan 2016-03-27 00:53:00            No  Jakarta Timur   \n",
       "1    Laki-Laki 2016-04-04 01:39:00            No       Denpasar   \n",
       "2    Perempuan 2016-03-13 20:35:00            No       Surabaya   \n",
       "3    Laki-Laki 2016-01-10 02:31:00            No          Batam   \n",
       "4    Perempuan 2016-06-03 03:36:00            No          Medan   \n",
       "..         ...                 ...           ...            ...   \n",
       "995  Laki-Laki 2016-02-11 21:49:00           Yes       Semarang   \n",
       "996  Laki-Laki 2016-04-22 02:07:00           Yes      Pakanbaru   \n",
       "997  Laki-Laki 2016-02-01 17:24:00           Yes      Samarinda   \n",
       "998  Perempuan 2016-03-24 02:35:00            No      Tangerang   \n",
       "999  Perempuan 2016-06-03 21:43:00           Yes         Serang   \n",
       "\n",
       "                          province    category          customer_age_group  \\\n",
       "0    Daerah Khusus Ibukota Jakarta   Furniture        Young Adults (25-45)   \n",
       "1                             Bali        Food        Young Adults (25-45)   \n",
       "2                       Jawa Timur  Electronic        Young Adults (25-45)   \n",
       "3                   Kepulauan Riau       House        Young Adults (25-45)   \n",
       "4                    Sumatra Utara     Finance        Young Adults (25-45)   \n",
       "..                             ...         ...                         ...   \n",
       "995                    Jawa Tengah     Finance        Young Adults (25-45)   \n",
       "996                           Riau  Electronic  Middle-aged Adults (45-65)   \n",
       "997               Kalimantan Timur      Travel  Middle-aged Adults (45-65)   \n",
       "998                         Banten        Bank               Youth (15-24)   \n",
       "999                         Banten      Travel        Young Adults (25-45)   \n",
       "\n",
       "     tahun  bulan  pekan  hari  \n",
       "0     2016      3     12    27  \n",
       "1     2016      4     14     4  \n",
       "2     2016      3     10    13  \n",
       "3     2016      1      1    10  \n",
       "4     2016      6     22     3  \n",
       "..     ...    ...    ...   ...  \n",
       "995   2016      2      6    11  \n",
       "996   2016      4     16    22  \n",
       "997   2016      2      5     1  \n",
       "998   2016      3     12    24  \n",
       "999   2016      6     22     3  \n",
       "\n",
       "[997 rows x 15 columns]"
      ]
     },
     "execution_count": 34,
     "metadata": {},
     "output_type": "execute_result"
    }
   ],
   "source": [
    "df_clean"
   ]
  },
  {
   "cell_type": "code",
   "execution_count": 35,
   "id": "1a6c89e2-a8cd-4282-9d5d-7e5888449a39",
   "metadata": {},
   "outputs": [
    {
     "data": {
      "text/plain": [
       "daily_time_spent_on_site    0\n",
       "age                         0\n",
       "area_income                 0\n",
       "daily_internet_usage        0\n",
       "gender                      0\n",
       "timestamp                   0\n",
       "clicked_on_ad               0\n",
       "city                        0\n",
       "province                    0\n",
       "category                    0\n",
       "customer_age_group          0\n",
       "tahun                       0\n",
       "bulan                       0\n",
       "pekan                       0\n",
       "hari                        0\n",
       "dtype: int64"
      ]
     },
     "execution_count": 35,
     "metadata": {},
     "output_type": "execute_result"
    }
   ],
   "source": [
    "df_clean.isna().sum().sort_values()"
   ]
  },
  {
   "cell_type": "markdown",
   "id": "af09bd01-88a3-4800-9e01-690898b83b1f",
   "metadata": {},
   "source": [
    "### Outliers"
   ]
  },
  {
   "cell_type": "markdown",
   "id": "8628294c-8dad-468e-a8d3-b9c00d1976c1",
   "metadata": {},
   "source": [
    "Melihat dari hasil EDA tahap sebelumnya maka hanya ada satu feature yang asih memiliki outliers yaitu area of income"
   ]
  },
  {
   "cell_type": "code",
   "execution_count": 36,
   "id": "e96d6fa0-d0ff-4ea6-8e42-2222ec2dbb38",
   "metadata": {},
   "outputs": [],
   "source": [
    "Q1 = df_clean['area_income'].quantile(0.25)\n",
    "Q3 = df_clean['area_income'].quantile(0.75)\n",
    "IQR = Q3 - Q1\n",
    "low_limit = Q1 - (1.5*IQR)\n",
    "high_limit = Q3 + (1.5*IQR)"
   ]
  },
  {
   "cell_type": "code",
   "execution_count": 37,
   "id": "b04b4cf8-36c1-4533-b0fd-fcdd4a4ebb95",
   "metadata": {},
   "outputs": [
    {
     "data": {
      "text/plain": [
       "(132849115.0, 653464035.0, 328079710.0, 458233440.0)"
      ]
     },
     "execution_count": 37,
     "metadata": {},
     "output_type": "execute_result"
    }
   ],
   "source": [
    "low_limit,high_limit,Q1,Q3"
   ]
  },
  {
   "cell_type": "code",
   "execution_count": 38,
   "id": "01e87e42-30f4-459b-8ab1-5ec545af738f",
   "metadata": {},
   "outputs": [
    {
     "data": {
      "text/plain": [
       "<AxesSubplot:xlabel='area_income'>"
      ]
     },
     "execution_count": 38,
     "metadata": {},
     "output_type": "execute_result"
    },
    {
     "data": {
      "image/png": "[encoded data removed]",
      "text/plain": [
       "<Figure size 432x288 with 1 Axes>"
      ]
     },
     "metadata": {
      "needs_background": "light"
     },
     "output_type": "display_data"
    }
   ],
   "source": [
    "plt.figure(figsize=(6,4))\n",
    "sns.boxplot(x = df_clean['area_income'])"
   ]
  },
  {
   "cell_type": "code",
   "execution_count": 39,
   "id": "1cec46e0-8fc5-491e-a12f-70abd676d2f0",
   "metadata": {},
   "outputs": [],
   "source": [
    "df_clean=df_clean[(df_clean['area_income']>=low_limit) & (df_clean['area_income']<=high_limit)]"
   ]
  },
  {
   "cell_type": "code",
   "execution_count": 40,
   "id": "dd2e6248-eeca-4a85-aef7-c1496841af4e",
   "metadata": {},
   "outputs": [
    {
     "data": {
      "text/plain": [
       "<AxesSubplot:xlabel='area_income'>"
      ]
     },
     "execution_count": 40,
     "metadata": {},
     "output_type": "execute_result"
    },
    {
     "data": {
      "image/png": "[encoded data removed]",
      "text/plain": [
       "<Figure size 432x288 with 1 Axes>"
      ]
     },
     "metadata": {
      "needs_background": "light"
     },
     "output_type": "display_data"
    }
   ],
   "source": [
    "plt.figure(figsize=(6,4))\n",
    "sns.boxplot(x = df_clean['area_income'])"
   ]
  },
  {
   "cell_type": "markdown",
   "id": "644b7eca-bea5-4907-926e-ea702b154360",
   "metadata": {},
   "source": [
    "Walau masih ada outlier namun sudah berkurang dari nilai awal sebelum dilakukan treatment dengan IQR"
   ]
  },
  {
   "cell_type": "code",
   "execution_count": 41,
   "id": "02208b02-f42c-40c5-b749-58412628bf76",
   "metadata": {},
   "outputs": [
    {
     "data": {
      "text/plain": [
       "daily_time_spent_on_site    0\n",
       "age                         0\n",
       "area_income                 0\n",
       "daily_internet_usage        0\n",
       "gender                      0\n",
       "timestamp                   0\n",
       "clicked_on_ad               0\n",
       "city                        0\n",
       "province                    0\n",
       "category                    0\n",
       "customer_age_group          0\n",
       "tahun                       0\n",
       "bulan                       0\n",
       "pekan                       0\n",
       "hari                        0\n",
       "dtype: int64"
      ]
     },
     "execution_count": 41,
     "metadata": {},
     "output_type": "execute_result"
    }
   ],
   "source": [
    "df_clean.isna().sum().sort_values()"
   ]
  },
  {
   "cell_type": "markdown",
   "id": "fda30285-367c-45e0-8ac1-ec86cf8862d7",
   "metadata": {},
   "source": [
    "### Feature Encoding"
   ]
  },
  {
   "cell_type": "code",
   "execution_count": 42,
   "id": "d4b2f7e0-d4ea-42b4-a3a2-deb516f9b786",
   "metadata": {},
   "outputs": [
    {
     "name": "stdout",
     "output_type": "stream",
     "text": [
      "<class 'pandas.core.frame.DataFrame'>\n",
      "Int64Index: 989 entries, 0 to 999\n",
      "Data columns (total 15 columns):\n",
      " #   Column                    Non-Null Count  Dtype         \n",
      "---  ------                    --------------  -----         \n",
      " 0   daily_time_spent_on_site  989 non-null    float64       \n",
      " 1   age                       989 non-null    int64         \n",
      " 2   area_income               989 non-null    float64       \n",
      " 3   daily_internet_usage      989 non-null    float64       \n",
      " 4   gender                    989 non-null    object        \n",
      " 5   timestamp                 989 non-null    datetime64[ns]\n",
      " 6   clicked_on_ad             989 non-null    object        \n",
      " 7   city                      989 non-null    object        \n",
      " 8   province                  989 non-null    object        \n",
      " 9   category                  989 non-null    object        \n",
      " 10  customer_age_group        989 non-null    object        \n",
      " 11  tahun                     989 non-null    int64         \n",
      " 12  bulan                     989 non-null    int64         \n",
      " 13  pekan                     989 non-null    int64         \n",
      " 14  hari                      989 non-null    int64         \n",
      "dtypes: datetime64[ns](1), float64(3), int64(5), object(6)\n",
      "memory usage: 123.6+ KB\n"
     ]
    }
   ],
   "source": [
    "df_clean.info()"
   ]
  },
  {
   "cell_type": "markdown",
   "id": "5f1df982-10d7-47cd-9309-9688c83f2e50",
   "metadata": {},
   "source": [
    "Treatment:\n",
    "1. Untuk feature gender & clicked on ads = Label Encoding\n",
    "2. Untuk feature city, province, category, customer_age_group = OHE"
   ]
  },
  {
   "cell_type": "code",
   "execution_count": 43,
   "id": "9ab4a1e1-f83a-4025-be6d-f469d7c09445",
   "metadata": {},
   "outputs": [],
   "source": [
    "mapping_gender = {\n",
    "    'Perempuan' : 0,\n",
    "    'Laki-Laki' : 1\n",
    "}\n",
    "df_clean['gender']=df_clean['gender'].map(mapping_gender)\n",
    "\n",
    "mapping_clicked = {\n",
    "    'No' : 0,\n",
    "    'Yes' : 1\n",
    "}\n",
    "df_clean['clicked_on_ad']=df_clean['clicked_on_ad'].map(mapping_clicked)\n"
   ]
  },
  {
   "cell_type": "code",
   "execution_count": 44,
   "id": "81d48374-5be2-4bd5-a093-947e536fdff2",
   "metadata": {},
   "outputs": [],
   "source": [
    "kota=pd.get_dummies(df_clean['city'], prefix='kota')\n",
    "provinsi=pd.get_dummies(df_clean['province'], prefix='provinsi')\n",
    "kategori=pd.get_dummies(df_clean['category'], prefix='category')\n",
    "umur=pd.get_dummies(df_clean['customer_age_group'], prefix='golumur')"
   ]
  },
  {
   "cell_type": "code",
   "execution_count": 45,
   "id": "be965c12-ea42-40d0-b595-3fc25f0207d7",
   "metadata": {},
   "outputs": [],
   "source": [
    "df_clean=pd.concat([df_clean,kota,provinsi,kategori,umur], axis=1)"
   ]
  },
  {
   "cell_type": "code",
   "execution_count": 46,
   "id": "cacfd257-9174-43db-a37d-2edce78fcd7f",
   "metadata": {},
   "outputs": [],
   "source": [
    "#Mendrop column column yang sudah dilakukan treatment OHE\n",
    "df_clean.drop(columns=['city','province','category','customer_age_group'], inplace=True)"
   ]
  },
  {
   "cell_type": "code",
   "execution_count": 47,
   "id": "42163709-bb26-40e4-a710-415b8ee66e37",
   "metadata": {},
   "outputs": [],
   "source": [
    "#Mendrop column timestamp yang sudah diextract\n",
    "df_clean.drop(columns=['timestamp'], inplace=True)"
   ]
  },
  {
   "cell_type": "code",
   "execution_count": 48,
   "id": "722908a4-0f9d-43e8-a0f8-518d764ba9c0",
   "metadata": {},
   "outputs": [
    {
     "name": "stdout",
     "output_type": "stream",
     "text": [
      "<class 'pandas.core.frame.DataFrame'>\n",
      "Int64Index: 989 entries, 0 to 999\n",
      "Data columns (total 69 columns):\n",
      " #   Column                                  Non-Null Count  Dtype  \n",
      "---  ------                                  --------------  -----  \n",
      " 0   daily_time_spent_on_site                989 non-null    float64\n",
      " 1   age                                     989 non-null    int64  \n",
      " 2   area_income                             989 non-null    float64\n",
      " 3   daily_internet_usage                    989 non-null    float64\n",
      " 4   gender                                  989 non-null    int64  \n",
      " 5   clicked_on_ad                           989 non-null    int64  \n",
      " 6   tahun                                   989 non-null    int64  \n",
      " 7   bulan                                   989 non-null    int64  \n",
      " 8   pekan                                   989 non-null    int64  \n",
      " 9   hari                                    989 non-null    int64  \n",
      " 10  kota_Balikpapan                         989 non-null    uint8  \n",
      " 11  kota_Bandar Lampung                     989 non-null    uint8  \n",
      " 12  kota_Bandung                            989 non-null    uint8  \n",
      " 13  kota_Banjarmasin                        989 non-null    uint8  \n",
      " 14  kota_Batam                              989 non-null    uint8  \n",
      " 15  kota_Bekasi                             989 non-null    uint8  \n",
      " 16  kota_Bogor                              989 non-null    uint8  \n",
      " 17  kota_Cimahi                             989 non-null    uint8  \n",
      " 18  kota_Denpasar                           989 non-null    uint8  \n",
      " 19  kota_Depok                              989 non-null    uint8  \n",
      " 20  kota_Jakarta Barat                      989 non-null    uint8  \n",
      " 21  kota_Jakarta Pusat                      989 non-null    uint8  \n",
      " 22  kota_Jakarta Selatan                    989 non-null    uint8  \n",
      " 23  kota_Jakarta Timur                      989 non-null    uint8  \n",
      " 24  kota_Jakarta Utara                      989 non-null    uint8  \n",
      " 25  kota_Makassar                           989 non-null    uint8  \n",
      " 26  kota_Malang                             989 non-null    uint8  \n",
      " 27  kota_Medan                              989 non-null    uint8  \n",
      " 28  kota_Padang                             989 non-null    uint8  \n",
      " 29  kota_Pakanbaru                          989 non-null    uint8  \n",
      " 30  kota_Palembang                          989 non-null    uint8  \n",
      " 31  kota_Pontianak                          989 non-null    uint8  \n",
      " 32  kota_Samarinda                          989 non-null    uint8  \n",
      " 33  kota_Semarang                           989 non-null    uint8  \n",
      " 34  kota_Serang                             989 non-null    uint8  \n",
      " 35  kota_Surabaya                           989 non-null    uint8  \n",
      " 36  kota_Surakarta                          989 non-null    uint8  \n",
      " 37  kota_Tangerang                          989 non-null    uint8  \n",
      " 38  kota_Tangerang Selatan                  989 non-null    uint8  \n",
      " 39  kota_Tasikmalaya                        989 non-null    uint8  \n",
      " 40  provinsi_Bali                           989 non-null    uint8  \n",
      " 41  provinsi_Banten                         989 non-null    uint8  \n",
      " 42  provinsi_Daerah Khusus Ibukota Jakarta  989 non-null    uint8  \n",
      " 43  provinsi_Jawa Barat                     989 non-null    uint8  \n",
      " 44  provinsi_Jawa Tengah                    989 non-null    uint8  \n",
      " 45  provinsi_Jawa Timur                     989 non-null    uint8  \n",
      " 46  provinsi_Kalimantan Barat               989 non-null    uint8  \n",
      " 47  provinsi_Kalimantan Selatan             989 non-null    uint8  \n",
      " 48  provinsi_Kalimantan Timur               989 non-null    uint8  \n",
      " 49  provinsi_Kepulauan Riau                 989 non-null    uint8  \n",
      " 50  provinsi_Lampung                        989 non-null    uint8  \n",
      " 51  provinsi_Riau                           989 non-null    uint8  \n",
      " 52  provinsi_Sulawesi Selatan               989 non-null    uint8  \n",
      " 53  provinsi_Sumatra Barat                  989 non-null    uint8  \n",
      " 54  provinsi_Sumatra Selatan                989 non-null    uint8  \n",
      " 55  provinsi_Sumatra Utara                  989 non-null    uint8  \n",
      " 56  category_Bank                           989 non-null    uint8  \n",
      " 57  category_Electronic                     989 non-null    uint8  \n",
      " 58  category_Fashion                        989 non-null    uint8  \n",
      " 59  category_Finance                        989 non-null    uint8  \n",
      " 60  category_Food                           989 non-null    uint8  \n",
      " 61  category_Furniture                      989 non-null    uint8  \n",
      " 62  category_Health                         989 non-null    uint8  \n",
      " 63  category_House                          989 non-null    uint8  \n",
      " 64  category_Otomotif                       989 non-null    uint8  \n",
      " 65  category_Travel                         989 non-null    uint8  \n",
      " 66  golumur_Middle-aged Adults (45-65)      989 non-null    uint8  \n",
      " 67  golumur_Young Adults (25-45)            989 non-null    uint8  \n",
      " 68  golumur_Youth (15-24)                   989 non-null    uint8  \n",
      "dtypes: float64(3), int64(7), uint8(59)\n",
      "memory usage: 142.0 KB\n"
     ]
    }
   ],
   "source": [
    "df_clean.info()"
   ]
  },
  {
   "cell_type": "code",
   "execution_count": 49,
   "id": "11c733e6-275c-4445-9f75-fdf4e16562a6",
   "metadata": {},
   "outputs": [
    {
     "data": {
      "text/plain": [
       "daily_time_spent_on_site    0\n",
       "kota_Surakarta              0\n",
       "kota_Tangerang              0\n",
       "kota_Tangerang Selatan      0\n",
       "kota_Tasikmalaya            0\n",
       "                           ..\n",
       "kota_Jakarta Barat          0\n",
       "kota_Depok                  0\n",
       "kota_Denpasar               0\n",
       "kota_Jakarta Utara          0\n",
       "golumur_Youth (15-24)       0\n",
       "Length: 69, dtype: int64"
      ]
     },
     "execution_count": 49,
     "metadata": {},
     "output_type": "execute_result"
    }
   ],
   "source": [
    "df_clean.isna().sum().sort_values()"
   ]
  },
  {
   "cell_type": "markdown",
   "id": "6794e575-5e8b-4c9f-8197-2858aa821476",
   "metadata": {},
   "source": [
    "## **Modelling and Evaluation**"
   ]
  },
  {
   "cell_type": "markdown",
   "id": "dad4382c-2854-42e7-9105-e947a4186858",
   "metadata": {
    "tags": []
   },
   "source": [
    "### Without Data Normalization"
   ]
  },
  {
   "cell_type": "code",
   "execution_count": 198,
   "id": "64cd9b10-b18e-4141-bd63-2fc3a6305e83",
   "metadata": {},
   "outputs": [],
   "source": [
    "df_real=df_clean.copy() #without normalization"
   ]
  },
  {
   "cell_type": "code",
   "execution_count": 199,
   "id": "5afa2ba6-2960-4173-88a1-390ce003aa7b",
   "metadata": {},
   "outputs": [
    {
     "name": "stdout",
     "output_type": "stream",
     "text": [
      "<class 'pandas.core.frame.DataFrame'>\n",
      "Int64Index: 989 entries, 0 to 999\n",
      "Data columns (total 69 columns):\n",
      " #   Column                                  Non-Null Count  Dtype  \n",
      "---  ------                                  --------------  -----  \n",
      " 0   daily_time_spent_on_site                989 non-null    float64\n",
      " 1   age                                     989 non-null    int64  \n",
      " 2   area_income                             989 non-null    float64\n",
      " 3   daily_internet_usage                    989 non-null    float64\n",
      " 4   gender                                  989 non-null    int64  \n",
      " 5   clicked_on_ad                           989 non-null    int64  \n",
      " 6   tahun                                   989 non-null    int64  \n",
      " 7   bulan                                   989 non-null    int64  \n",
      " 8   pekan                                   989 non-null    int64  \n",
      " 9   hari                                    989 non-null    int64  \n",
      " 10  kota_Balikpapan                         989 non-null    uint8  \n",
      " 11  kota_Bandar Lampung                     989 non-null    uint8  \n",
      " 12  kota_Bandung                            989 non-null    uint8  \n",
      " 13  kota_Banjarmasin                        989 non-null    uint8  \n",
      " 14  kota_Batam                              989 non-null    uint8  \n",
      " 15  kota_Bekasi                             989 non-null    uint8  \n",
      " 16  kota_Bogor                              989 non-null    uint8  \n",
      " 17  kota_Cimahi                             989 non-null    uint8  \n",
      " 18  kota_Denpasar                           989 non-null    uint8  \n",
      " 19  kota_Depok                              989 non-null    uint8  \n",
      " 20  kota_Jakarta Barat                      989 non-null    uint8  \n",
      " 21  kota_Jakarta Pusat                      989 non-null    uint8  \n",
      " 22  kota_Jakarta Selatan                    989 non-null    uint8  \n",
      " 23  kota_Jakarta Timur                      989 non-null    uint8  \n",
      " 24  kota_Jakarta Utara                      989 non-null    uint8  \n",
      " 25  kota_Makassar                           989 non-null    uint8  \n",
      " 26  kota_Malang                             989 non-null    uint8  \n",
      " 27  kota_Medan                              989 non-null    uint8  \n",
      " 28  kota_Padang                             989 non-null    uint8  \n",
      " 29  kota_Pakanbaru                          989 non-null    uint8  \n",
      " 30  kota_Palembang                          989 non-null    uint8  \n",
      " 31  kota_Pontianak                          989 non-null    uint8  \n",
      " 32  kota_Samarinda                          989 non-null    uint8  \n",
      " 33  kota_Semarang                           989 non-null    uint8  \n",
      " 34  kota_Serang                             989 non-null    uint8  \n",
      " 35  kota_Surabaya                           989 non-null    uint8  \n",
      " 36  kota_Surakarta                          989 non-null    uint8  \n",
      " 37  kota_Tangerang                          989 non-null    uint8  \n",
      " 38  kota_Tangerang Selatan                  989 non-null    uint8  \n",
      " 39  kota_Tasikmalaya                        989 non-null    uint8  \n",
      " 40  provinsi_Bali                           989 non-null    uint8  \n",
      " 41  provinsi_Banten                         989 non-null    uint8  \n",
      " 42  provinsi_Daerah Khusus Ibukota Jakarta  989 non-null    uint8  \n",
      " 43  provinsi_Jawa Barat                     989 non-null    uint8  \n",
      " 44  provinsi_Jawa Tengah                    989 non-null    uint8  \n",
      " 45  provinsi_Jawa Timur                     989 non-null    uint8  \n",
      " 46  provinsi_Kalimantan Barat               989 non-null    uint8  \n",
      " 47  provinsi_Kalimantan Selatan             989 non-null    uint8  \n",
      " 48  provinsi_Kalimantan Timur               989 non-null    uint8  \n",
      " 49  provinsi_Kepulauan Riau                 989 non-null    uint8  \n",
      " 50  provinsi_Lampung                        989 non-null    uint8  \n",
      " 51  provinsi_Riau                           989 non-null    uint8  \n",
      " 52  provinsi_Sulawesi Selatan               989 non-null    uint8  \n",
      " 53  provinsi_Sumatra Barat                  989 non-null    uint8  \n",
      " 54  provinsi_Sumatra Selatan                989 non-null    uint8  \n",
      " 55  provinsi_Sumatra Utara                  989 non-null    uint8  \n",
      " 56  category_Bank                           989 non-null    uint8  \n",
      " 57  category_Electronic                     989 non-null    uint8  \n",
      " 58  category_Fashion                        989 non-null    uint8  \n",
      " 59  category_Finance                        989 non-null    uint8  \n",
      " 60  category_Food                           989 non-null    uint8  \n",
      " 61  category_Furniture                      989 non-null    uint8  \n",
      " 62  category_Health                         989 non-null    uint8  \n",
      " 63  category_House                          989 non-null    uint8  \n",
      " 64  category_Otomotif                       989 non-null    uint8  \n",
      " 65  category_Travel                         989 non-null    uint8  \n",
      " 66  golumur_Middle-aged Adults (45-65)      989 non-null    uint8  \n",
      " 67  golumur_Young Adults (25-45)            989 non-null    uint8  \n",
      " 68  golumur_Youth (15-24)                   989 non-null    uint8  \n",
      "dtypes: float64(3), int64(7), uint8(59)\n",
      "memory usage: 142.0 KB\n"
     ]
    }
   ],
   "source": [
    "df_real.info()"
   ]
  },
  {
   "cell_type": "code",
   "execution_count": 200,
   "id": "4f5fcf63-aca1-404a-ad73-78d6892cf53b",
   "metadata": {},
   "outputs": [],
   "source": [
    "from sklearn.preprocessing import MinMaxScaler, StandardScaler\n",
    "\n",
    "from sklearn.linear_model import LogisticRegression\n",
    "from sklearn.neighbors import KNeighborsClassifier\n",
    "from sklearn.tree import DecisionTreeClassifier\n",
    "from sklearn.metrics import accuracy_score, precision_score, recall_score, f1_score, roc_auc_score, confusion_matrix, classification_report\n",
    "from sklearn.model_selection import train_test_split, GridSearchCV, cross_val_score, StratifiedKFold, RandomizedSearchCV\n"
   ]
  },
  {
   "cell_type": "code",
   "execution_count": 201,
   "id": "093a3908-4ce1-48d3-a4a7-3f05a230a2cd",
   "metadata": {},
   "outputs": [],
   "source": [
    "logreg = LogisticRegression()\n",
    "knn = KNeighborsClassifier()\n",
    "dt = DecisionTreeClassifier()"
   ]
  },
  {
   "cell_type": "code",
   "execution_count": 202,
   "id": "19e66975-8c3d-41ef-8c8f-0ae842cdbc34",
   "metadata": {},
   "outputs": [],
   "source": [
    "def eval_classification(model, xtrain, ytrain, xtest, ytest):\n",
    "    pred = model.predict(xtest)\n",
    "    print(\"Accuracy (Test Set): %.2f\" % accuracy_score(ytest, pred))\n",
    "    print(\"Precision (Test Set): %.2f\" % precision_score(ytest, pred))\n",
    "    print(\"Recall (Test Set): %.2f\" % recall_score(ytest, pred))\n",
    "    print(\"F1-Score (Test Set): %.2f\" % f1_score(ytest, pred))\n",
    "    \n",
    "    y_pred_proba = model.predict_proba(xtest)\n",
    "    print(\"AUC: %.2f\" % roc_auc_score(ytest, y_pred_proba[:, 1]))\n",
    "\n",
    "def show_best_hyperparameter(model, hyperparameters):\n",
    "    for key, value in hyperparameters.items() :\n",
    "        print(key+':', model.get_params()[key])\n",
    "        \n",
    "def show_cmatrix(ytest, pred):\n",
    "    # Creating confusion matrix \n",
    "    cm = confusion_matrix(ytest, pred)\n",
    "\n",
    "    # Putting the matrix a dataframe form  \n",
    "    cm_df = pd.DataFrame(cm,index=['Actually Not Clicked on Ads', 'Actually Clicked on Ads'],\n",
    "                 columns=['Predicted Not Clicked on Ads', 'Predicted Clicked on Ads'])\n",
    "    \n",
    "    # visualizing the confusion matrix\n",
    "    sns.set(font_scale=1.2)\n",
    "    plt.figure(figsize=(10,4))\n",
    "        \n",
    "    sns.heatmap(cm, annot=True, fmt='g', cmap=\"YlGnBu\",xticklabels=cm_df.columns, yticklabels=cm_df.index, annot_kws={\"size\": 20})\n",
    "    plt.title(\"Confusion Matrix\", size=20)\n",
    "    plt.xlabel('Predicted Class')\n",
    "    plt.ylabel('True Class');"
   ]
  },
  {
   "cell_type": "code",
   "execution_count": 203,
   "id": "0010083d-6d1c-4bf2-887e-831092ca27af",
   "metadata": {},
   "outputs": [
    {
     "name": "stdout",
     "output_type": "stream",
     "text": [
      "(989, 68)\n",
      "(989,)\n"
     ]
    }
   ],
   "source": [
    "x = df_real.drop(columns=['clicked_on_ad'], axis=1)\n",
    "y = df_real['clicked_on_ad'] \n",
    "print(x.shape)\n",
    "print(y.shape)"
   ]
  },
  {
   "cell_type": "code",
   "execution_count": 204,
   "id": "2be10aef-f5fa-4524-9e13-6d97aa7092d5",
   "metadata": {},
   "outputs": [
    {
     "data": {
      "text/plain": [
       "0    498\n",
       "1    491\n",
       "Name: clicked_on_ad, dtype: int64"
      ]
     },
     "execution_count": 204,
     "metadata": {},
     "output_type": "execute_result"
    }
   ],
   "source": [
    "y.value_counts()"
   ]
  },
  {
   "cell_type": "code",
   "execution_count": 205,
   "id": "360713ec-2ec5-42dd-878d-9dc622bfd8b5",
   "metadata": {},
   "outputs": [],
   "source": [
    "x_train, x_test, y_train, y_test = train_test_split(x, y, test_size = 0.2, random_state = 1000)"
   ]
  },
  {
   "cell_type": "code",
   "execution_count": 206,
   "id": "734b0543-e336-494d-8f9a-ea4781a5da08",
   "metadata": {},
   "outputs": [
    {
     "data": {
      "text/plain": [
       "0    401\n",
       "1    390\n",
       "Name: clicked_on_ad, dtype: int64"
      ]
     },
     "execution_count": 206,
     "metadata": {},
     "output_type": "execute_result"
    }
   ],
   "source": [
    "y_train.value_counts()"
   ]
  },
  {
   "cell_type": "code",
   "execution_count": 207,
   "id": "bb7ef6df-8bc3-4bf2-b97d-e211b38c1cb1",
   "metadata": {},
   "outputs": [
    {
     "data": {
      "text/plain": [
       "1    101\n",
       "0     97\n",
       "Name: clicked_on_ad, dtype: int64"
      ]
     },
     "execution_count": 207,
     "metadata": {},
     "output_type": "execute_result"
    }
   ],
   "source": [
    "y_test.value_counts()"
   ]
  },
  {
   "cell_type": "markdown",
   "id": "e6b6d926-cc73-4cea-bb2d-b02fe285dca8",
   "metadata": {},
   "source": [
    "#### **Logistic Regression**"
   ]
  },
  {
   "cell_type": "code",
   "execution_count": 208,
   "id": "72d79cbd-024e-485d-b098-ec6752c7ea15",
   "metadata": {},
   "outputs": [],
   "source": [
    "lr_model = LogisticRegression(solver='liblinear')\n",
    "lr_model.fit(x_train, y_train)\n",
    "y_pred_lr = lr_model.predict(x_test)"
   ]
  },
  {
   "cell_type": "code",
   "execution_count": 209,
   "id": "7dc1efe1-e47d-4895-bd57-d03e37684a97",
   "metadata": {},
   "outputs": [
    {
     "name": "stdout",
     "output_type": "stream",
     "text": [
      "Accuracy (Test Set): 0.49\n",
      "Precision (Test Set): 0.00\n",
      "Recall (Test Set): 0.00\n",
      "F1-Score (Test Set): 0.00\n",
      "AUC: 0.75\n"
     ]
    }
   ],
   "source": [
    "eval_classification(lr_model, x_train, y_train, x_test, y_test)"
   ]
  },
  {
   "cell_type": "code",
   "execution_count": 210,
   "id": "5e201651-f74f-4536-a721-cccec7fd3748",
   "metadata": {},
   "outputs": [
    {
     "name": "stdout",
     "output_type": "stream",
     "text": [
      "Train score: 0.506953223767383\n",
      "Test score:0.4898989898989899\n"
     ]
    }
   ],
   "source": [
    "print('Train score: ' + str(lr_model.score(x_train, y_train))) \n",
    "print('Test score:' + str(lr_model.score(x_test, y_test))) "
   ]
  },
  {
   "cell_type": "code",
   "execution_count": 211,
   "id": "6ea062ab-c21a-4d34-a3de-3bdf2bb314d4",
   "metadata": {},
   "outputs": [
    {
     "data": {
      "image/png": "[encoded data removed]",
      "text/plain": [
       "<Figure size 720x288 with 2 Axes>"
      ]
     },
     "metadata": {},
     "output_type": "display_data"
    }
   ],
   "source": [
    "show_cmatrix(y_test, y_pred_lr)"
   ]
  },
  {
   "cell_type": "code",
   "execution_count": 212,
   "id": "321855b9-2454-4a71-bc78-3ca921225df0",
   "metadata": {},
   "outputs": [],
   "source": [
    "recall_lr = recall_score(y_test, y_pred_lr)\n",
    "acc_lr = accuracy_score(y_test, y_pred_lr)\n",
    "precision_lr = precision_score(y_test, y_pred_lr)\n",
    "f1_lr = f1_score(y_test, y_pred_lr)\n",
    "acc_lr_train = lr_model.score(x_train, y_train)"
   ]
  },
  {
   "cell_type": "markdown",
   "id": "eeab4900-93f4-426a-b0b3-ab29e2063912",
   "metadata": {},
   "source": [
    "#### **KNN**"
   ]
  },
  {
   "cell_type": "code",
   "execution_count": 213,
   "id": "ab1c10ac-c7d2-4d28-a2bf-e8b851f70762",
   "metadata": {},
   "outputs": [],
   "source": [
    "knn_model = KNeighborsClassifier()\n",
    "knn_model.fit(x_train, y_train)\n",
    "y_pred_knn = knn_model.predict(x_test)"
   ]
  },
  {
   "cell_type": "code",
   "execution_count": 214,
   "id": "0274e6fe-e32f-45b8-acd6-403737467965",
   "metadata": {},
   "outputs": [
    {
     "name": "stdout",
     "output_type": "stream",
     "text": [
      "Accuracy (Test Set): 0.66\n",
      "Precision (Test Set): 0.71\n",
      "Recall (Test Set): 0.55\n",
      "F1-Score (Test Set): 0.62\n",
      "AUC: 0.70\n"
     ]
    }
   ],
   "source": [
    "eval_classification(knn_model, x_train, y_train, x_test, y_test)"
   ]
  },
  {
   "cell_type": "code",
   "execution_count": 215,
   "id": "ab8aff67-4ed2-48c0-b781-3bac7fbc143d",
   "metadata": {},
   "outputs": [
    {
     "name": "stdout",
     "output_type": "stream",
     "text": [
      "Train score: 0.7509481668773704\n",
      "Test score:0.6565656565656566\n"
     ]
    }
   ],
   "source": [
    "print('Train score: ' + str(knn_model.score(x_train, y_train))) \n",
    "print('Test score:' + str(knn_model.score(x_test, y_test))) "
   ]
  },
  {
   "cell_type": "code",
   "execution_count": 216,
   "id": "ba44a8f9-d3ae-4e45-84c8-a3924cd6f579",
   "metadata": {},
   "outputs": [
    {
     "data": {
      "image/png": "[encoded data removed]",
      "text/plain": [
       "<Figure size 720x288 with 2 Axes>"
      ]
     },
     "metadata": {},
     "output_type": "display_data"
    }
   ],
   "source": [
    "show_cmatrix(y_test, y_pred_knn)"
   ]
  },
  {
   "cell_type": "code",
   "execution_count": 217,
   "id": "4c4b5a8c-e06d-4fb6-abb8-1f94995855d5",
   "metadata": {},
   "outputs": [],
   "source": [
    "recall_knn = recall_score(y_test, y_pred_knn)\n",
    "acc_knn = accuracy_score(y_test, y_pred_knn)\n",
    "precision_knn = precision_score(y_test, y_pred_knn)\n",
    "f1_knn = f1_score(y_test, y_pred_knn)\n",
    "acc_knn_train = knn_model.score(x_train, y_train)"
   ]
  },
  {
   "cell_type": "markdown",
   "id": "dbd79314-d35a-4896-8c29-32695a270155",
   "metadata": {},
   "source": [
    "#### **Decision Tree**"
   ]
  },
  {
   "cell_type": "code",
   "execution_count": 218,
   "id": "2a90c0ae-81a1-4618-b8fe-b7a838c6279a",
   "metadata": {},
   "outputs": [],
   "source": [
    "dt_model = DecisionTreeClassifier()\n",
    "dt_model.fit(x_train,y_train)\n",
    "y_pred_dt = dt_model.predict(x_test)"
   ]
  },
  {
   "cell_type": "code",
   "execution_count": 219,
   "id": "a07d2fd1-f953-4d6f-b45b-8b7dc09a2b52",
   "metadata": {},
   "outputs": [
    {
     "name": "stdout",
     "output_type": "stream",
     "text": [
      "Accuracy (Test Set): 0.90\n",
      "Precision (Test Set): 0.93\n",
      "Recall (Test Set): 0.87\n",
      "F1-Score (Test Set): 0.90\n",
      "AUC: 0.90\n"
     ]
    }
   ],
   "source": [
    "eval_classification(dt_model, x_train, y_train, x_test, y_test)"
   ]
  },
  {
   "cell_type": "code",
   "execution_count": 220,
   "id": "c5abd227-f61a-48fe-a0d9-0a24e4ce8a48",
   "metadata": {},
   "outputs": [
    {
     "name": "stdout",
     "output_type": "stream",
     "text": [
      "Train score: 1.0\n",
      "Test score:0.898989898989899\n"
     ]
    }
   ],
   "source": [
    "print('Train score: ' + str(dt_model.score(x_train, y_train))) #accuracy\n",
    "print('Test score:' + str(dt_model.score(x_test, y_test))) #accuracy"
   ]
  },
  {
   "cell_type": "code",
   "execution_count": 221,
   "id": "3fdc854b-fdab-41f7-960a-e89b759e1cc2",
   "metadata": {},
   "outputs": [
    {
     "data": {
      "image/png": "[encoded data removed]",
      "text/plain": [
       "<Figure size 720x288 with 2 Axes>"
      ]
     },
     "metadata": {},
     "output_type": "display_data"
    }
   ],
   "source": [
    "show_cmatrix(y_test, y_pred_dt)"
   ]
  },
  {
   "cell_type": "code",
   "execution_count": 222,
   "id": "2a4af8a1-dac5-4a80-a5fe-da032cb3090e",
   "metadata": {},
   "outputs": [],
   "source": [
    "recall_dt = recall_score(y_test, y_pred_dt)\n",
    "acc_dt = accuracy_score(y_test, y_pred_dt)\n",
    "precision_dt = precision_score(y_test, y_pred_dt)\n",
    "f1_dt = f1_score(y_test, y_pred_dt)\n",
    "acc_dt_train = dt_model.score(x_train, y_train)"
   ]
  },
  {
   "cell_type": "markdown",
   "id": "493433a2-5888-4110-9082-cb360aa31b86",
   "metadata": {},
   "source": [
    "### **Model Evaluation without Normalization**"
   ]
  },
  {
   "cell_type": "code",
   "execution_count": 223,
   "id": "de4089ca-a307-446a-9cba-c79d672d42b1",
   "metadata": {},
   "outputs": [
    {
     "data": {
      "text/html": [
       "<div>\n",
       "<style scoped>\n",
       "    .dataframe tbody tr th:only-of-type {\n",
       "        vertical-align: middle;\n",
       "    }\n",
       "\n",
       "    .dataframe tbody tr th {\n",
       "        vertical-align: top;\n",
       "    }\n",
       "\n",
       "    .dataframe thead th {\n",
       "        text-align: right;\n",
       "    }\n",
       "</style>\n",
       "<table border=\"1\" class=\"dataframe\">\n",
       "  <thead>\n",
       "    <tr style=\"text-align: right;\">\n",
       "      <th></th>\n",
       "      <th>Log Res</th>\n",
       "      <th>KNN</th>\n",
       "      <th>Decision Tree</th>\n",
       "    </tr>\n",
       "  </thead>\n",
       "  <tbody>\n",
       "    <tr>\n",
       "      <th>Accuracy</th>\n",
       "      <td>0.489899</td>\n",
       "      <td>0.656566</td>\n",
       "      <td>0.898990</td>\n",
       "    </tr>\n",
       "    <tr>\n",
       "      <th>Recall</th>\n",
       "      <td>0.000000</td>\n",
       "      <td>0.554455</td>\n",
       "      <td>0.871287</td>\n",
       "    </tr>\n",
       "    <tr>\n",
       "      <th>Precision</th>\n",
       "      <td>0.000000</td>\n",
       "      <td>0.708861</td>\n",
       "      <td>0.926316</td>\n",
       "    </tr>\n",
       "    <tr>\n",
       "      <th>F1 Score</th>\n",
       "      <td>0.000000</td>\n",
       "      <td>0.622222</td>\n",
       "      <td>0.897959</td>\n",
       "    </tr>\n",
       "  </tbody>\n",
       "</table>\n",
       "</div>"
      ],
      "text/plain": [
       "            Log Res       KNN  Decision Tree\n",
       "Accuracy   0.489899  0.656566       0.898990\n",
       "Recall     0.000000  0.554455       0.871287\n",
       "Precision  0.000000  0.708861       0.926316\n",
       "F1 Score   0.000000  0.622222       0.897959"
      ]
     },
     "execution_count": 223,
     "metadata": {},
     "output_type": "execute_result"
    }
   ],
   "source": [
    "evaluation_summary = {\n",
    "    'Log Res':[acc_lr, recall_lr, precision_lr, f1_lr],\n",
    "    'KNN':[acc_knn, recall_knn, precision_knn, f1_knn],\n",
    "    'Decision Tree':[acc_dt, recall_dt, precision_dt, f1_dt]\n",
    "}\n",
    "\n",
    "eva_sum = pd.DataFrame(data = evaluation_summary, index = ['Accuracy', 'Recall', 'Precision', 'F1 Score'])\n",
    "eva_sum"
   ]
  },
  {
   "cell_type": "code",
   "execution_count": 224,
   "id": "e7ed9f4f-7f95-4f7d-82d8-b7353cfc2f66",
   "metadata": {},
   "outputs": [
    {
     "data": {
      "text/html": [
       "<div>\n",
       "<style scoped>\n",
       "    .dataframe tbody tr th:only-of-type {\n",
       "        vertical-align: middle;\n",
       "    }\n",
       "\n",
       "    .dataframe tbody tr th {\n",
       "        vertical-align: top;\n",
       "    }\n",
       "\n",
       "    .dataframe thead th {\n",
       "        text-align: right;\n",
       "    }\n",
       "</style>\n",
       "<table border=\"1\" class=\"dataframe\">\n",
       "  <thead>\n",
       "    <tr style=\"text-align: right;\">\n",
       "      <th></th>\n",
       "      <th>Train</th>\n",
       "      <th>Test</th>\n",
       "    </tr>\n",
       "  </thead>\n",
       "  <tbody>\n",
       "    <tr>\n",
       "      <th>Log Res</th>\n",
       "      <td>0.506953</td>\n",
       "      <td>0.489899</td>\n",
       "    </tr>\n",
       "    <tr>\n",
       "      <th>KNN</th>\n",
       "      <td>0.750948</td>\n",
       "      <td>0.656566</td>\n",
       "    </tr>\n",
       "    <tr>\n",
       "      <th>Decision Tree</th>\n",
       "      <td>1.000000</td>\n",
       "      <td>0.898990</td>\n",
       "    </tr>\n",
       "  </tbody>\n",
       "</table>\n",
       "</div>"
      ],
      "text/plain": [
       "                  Train      Test\n",
       "Log Res        0.506953  0.489899\n",
       "KNN            0.750948  0.656566\n",
       "Decision Tree  1.000000  0.898990"
      ]
     },
     "execution_count": 224,
     "metadata": {},
     "output_type": "execute_result"
    }
   ],
   "source": [
    "evaluation_summary_train_test = {\n",
    "    \"Train\" : [acc_lr_train, acc_knn_train, acc_dt_train],\n",
    "    \"Test\": [acc_lr, acc_knn, acc_dt]\n",
    "}\n",
    "\n",
    "eva_sum_train_test = pd.DataFrame(data = evaluation_summary_train_test, index = ['Log Res','KNN', 'Decision Tree'])\n",
    "eva_sum_train_test"
   ]
  },
  {
   "cell_type": "markdown",
   "id": "e670aebf-8ac7-47cb-9714-38bdf8217db6",
   "metadata": {
    "tags": []
   },
   "source": [
    "### With Data Normalization"
   ]
  },
  {
   "cell_type": "code",
   "execution_count": 225,
   "id": "2efb437d-8dfa-46d3-99cf-af7eaf726f82",
   "metadata": {},
   "outputs": [],
   "source": [
    "df_real_norm=df_clean.copy()  #with normalization"
   ]
  },
  {
   "cell_type": "code",
   "execution_count": 226,
   "id": "28f85769-45e1-414e-bfd0-e4b5f0e6dead",
   "metadata": {},
   "outputs": [
    {
     "name": "stdout",
     "output_type": "stream",
     "text": [
      "<class 'pandas.core.frame.DataFrame'>\n",
      "Int64Index: 989 entries, 0 to 999\n",
      "Data columns (total 69 columns):\n",
      " #   Column                                  Non-Null Count  Dtype  \n",
      "---  ------                                  --------------  -----  \n",
      " 0   daily_time_spent_on_site                989 non-null    float64\n",
      " 1   age                                     989 non-null    int64  \n",
      " 2   area_income                             989 non-null    float64\n",
      " 3   daily_internet_usage                    989 non-null    float64\n",
      " 4   gender                                  989 non-null    int64  \n",
      " 5   clicked_on_ad                           989 non-null    int64  \n",
      " 6   tahun                                   989 non-null    int64  \n",
      " 7   bulan                                   989 non-null    int64  \n",
      " 8   pekan                                   989 non-null    int64  \n",
      " 9   hari                                    989 non-null    int64  \n",
      " 10  kota_Balikpapan                         989 non-null    uint8  \n",
      " 11  kota_Bandar Lampung                     989 non-null    uint8  \n",
      " 12  kota_Bandung                            989 non-null    uint8  \n",
      " 13  kota_Banjarmasin                        989 non-null    uint8  \n",
      " 14  kota_Batam                              989 non-null    uint8  \n",
      " 15  kota_Bekasi                             989 non-null    uint8  \n",
      " 16  kota_Bogor                              989 non-null    uint8  \n",
      " 17  kota_Cimahi                             989 non-null    uint8  \n",
      " 18  kota_Denpasar                           989 non-null    uint8  \n",
      " 19  kota_Depok                              989 non-null    uint8  \n",
      " 20  kota_Jakarta Barat                      989 non-null    uint8  \n",
      " 21  kota_Jakarta Pusat                      989 non-null    uint8  \n",
      " 22  kota_Jakarta Selatan                    989 non-null    uint8  \n",
      " 23  kota_Jakarta Timur                      989 non-null    uint8  \n",
      " 24  kota_Jakarta Utara                      989 non-null    uint8  \n",
      " 25  kota_Makassar                           989 non-null    uint8  \n",
      " 26  kota_Malang                             989 non-null    uint8  \n",
      " 27  kota_Medan                              989 non-null    uint8  \n",
      " 28  kota_Padang                             989 non-null    uint8  \n",
      " 29  kota_Pakanbaru                          989 non-null    uint8  \n",
      " 30  kota_Palembang                          989 non-null    uint8  \n",
      " 31  kota_Pontianak                          989 non-null    uint8  \n",
      " 32  kota_Samarinda                          989 non-null    uint8  \n",
      " 33  kota_Semarang                           989 non-null    uint8  \n",
      " 34  kota_Serang                             989 non-null    uint8  \n",
      " 35  kota_Surabaya                           989 non-null    uint8  \n",
      " 36  kota_Surakarta                          989 non-null    uint8  \n",
      " 37  kota_Tangerang                          989 non-null    uint8  \n",
      " 38  kota_Tangerang Selatan                  989 non-null    uint8  \n",
      " 39  kota_Tasikmalaya                        989 non-null    uint8  \n",
      " 40  provinsi_Bali                           989 non-null    uint8  \n",
      " 41  provinsi_Banten                         989 non-null    uint8  \n",
      " 42  provinsi_Daerah Khusus Ibukota Jakarta  989 non-null    uint8  \n",
      " 43  provinsi_Jawa Barat                     989 non-null    uint8  \n",
      " 44  provinsi_Jawa Tengah                    989 non-null    uint8  \n",
      " 45  provinsi_Jawa Timur                     989 non-null    uint8  \n",
      " 46  provinsi_Kalimantan Barat               989 non-null    uint8  \n",
      " 47  provinsi_Kalimantan Selatan             989 non-null    uint8  \n",
      " 48  provinsi_Kalimantan Timur               989 non-null    uint8  \n",
      " 49  provinsi_Kepulauan Riau                 989 non-null    uint8  \n",
      " 50  provinsi_Lampung                        989 non-null    uint8  \n",
      " 51  provinsi_Riau                           989 non-null    uint8  \n",
      " 52  provinsi_Sulawesi Selatan               989 non-null    uint8  \n",
      " 53  provinsi_Sumatra Barat                  989 non-null    uint8  \n",
      " 54  provinsi_Sumatra Selatan                989 non-null    uint8  \n",
      " 55  provinsi_Sumatra Utara                  989 non-null    uint8  \n",
      " 56  category_Bank                           989 non-null    uint8  \n",
      " 57  category_Electronic                     989 non-null    uint8  \n",
      " 58  category_Fashion                        989 non-null    uint8  \n",
      " 59  category_Finance                        989 non-null    uint8  \n",
      " 60  category_Food                           989 non-null    uint8  \n",
      " 61  category_Furniture                      989 non-null    uint8  \n",
      " 62  category_Health                         989 non-null    uint8  \n",
      " 63  category_House                          989 non-null    uint8  \n",
      " 64  category_Otomotif                       989 non-null    uint8  \n",
      " 65  category_Travel                         989 non-null    uint8  \n",
      " 66  golumur_Middle-aged Adults (45-65)      989 non-null    uint8  \n",
      " 67  golumur_Young Adults (25-45)            989 non-null    uint8  \n",
      " 68  golumur_Youth (15-24)                   989 non-null    uint8  \n",
      "dtypes: float64(3), int64(7), uint8(59)\n",
      "memory usage: 142.0 KB\n"
     ]
    }
   ],
   "source": [
    "df_real_norm.info()"
   ]
  },
  {
   "cell_type": "code",
   "execution_count": 227,
   "id": "43bcd5b8-ac32-4a98-b95a-43aff96ab0f6",
   "metadata": {},
   "outputs": [
    {
     "name": "stdout",
     "output_type": "stream",
     "text": [
      "(989, 68)\n",
      "(989,)\n"
     ]
    }
   ],
   "source": [
    "x = df_real_norm.drop(columns=['clicked_on_ad'], axis=1)\n",
    "y = df_real_norm['clicked_on_ad'] \n",
    "print(x.shape)\n",
    "print(y.shape)"
   ]
  },
  {
   "cell_type": "code",
   "execution_count": 228,
   "id": "777ef1f6-2262-42dc-bd83-5d01b73ed68c",
   "metadata": {},
   "outputs": [],
   "source": [
    "from sklearn.preprocessing import MinMaxScaler, StandardScaler\n",
    "\n",
    "from sklearn.linear_model import LogisticRegression\n",
    "from sklearn.neighbors import KNeighborsClassifier\n",
    "from sklearn.tree import DecisionTreeClassifier\n",
    "from sklearn.metrics import accuracy_score, precision_score, recall_score, f1_score, roc_auc_score, confusion_matrix, classification_report\n",
    "from sklearn.model_selection import train_test_split, GridSearchCV, cross_val_score, StratifiedKFold, RandomizedSearchCV\n"
   ]
  },
  {
   "cell_type": "code",
   "execution_count": 229,
   "id": "331bfb9a-badc-45a1-9863-d1c767219c66",
   "metadata": {},
   "outputs": [],
   "source": [
    "for col in df_real_norm.columns:\n",
    "        df_real_norm[col] = MinMaxScaler().fit_transform(df_real_norm[col].values.reshape(len(df_real_norm), 1))"
   ]
  },
  {
   "cell_type": "code",
   "execution_count": 230,
   "id": "cd0b8c69-1c4b-4031-bddf-34805a33496b",
   "metadata": {},
   "outputs": [],
   "source": [
    "logreg = LogisticRegression()\n",
    "knn = KNeighborsClassifier()\n",
    "dt = DecisionTreeClassifier()"
   ]
  },
  {
   "cell_type": "code",
   "execution_count": 231,
   "id": "2693f7c3-7921-4989-9523-80a7c5a239c0",
   "metadata": {},
   "outputs": [],
   "source": [
    "def eval_classification(model, xtrain, ytrain, xtest, ytest):\n",
    "    pred = model.predict(xtest)\n",
    "    print(\"Accuracy (Test Set): %.2f\" % accuracy_score(ytest, pred))\n",
    "    print(\"Precision (Test Set): %.2f\" % precision_score(ytest, pred))\n",
    "    print(\"Recall (Test Set): %.2f\" % recall_score(ytest, pred))\n",
    "    print(\"F1-Score (Test Set): %.2f\" % f1_score(ytest, pred))\n",
    "    \n",
    "    y_pred_proba = model.predict_proba(xtest)\n",
    "    print(\"AUC: %.2f\" % roc_auc_score(ytest, y_pred_proba[:, 1]))\n",
    "\n",
    "def show_best_hyperparameter(model, hyperparameters):\n",
    "    for key, value in hyperparameters.items() :\n",
    "        print(key+':', model.get_params()[key])\n",
    "        \n",
    "def show_cmatrix(ytest, pred):\n",
    "    # Creating confusion matrix \n",
    "    cm = confusion_matrix(ytest, pred)\n",
    "\n",
    "    # Putting the matrix a dataframe form  \n",
    "    cm_df = pd.DataFrame(cm, index=['Actually Not Clicked on Ads', 'Actually Clicked on Ads'],\n",
    "                 columns=['Predicted Not Clicked on Ads', 'Predicted Clicked on Ads'])\n",
    "    \n",
    "    # visualizing the confusion matrix\n",
    "    sns.set(font_scale=1.2)\n",
    "    plt.figure(figsize=(10,4))\n",
    "        \n",
    "    sns.heatmap(cm, annot=True, fmt='g', cmap=\"YlGnBu\",xticklabels=cm_df.columns, yticklabels=cm_df.index, annot_kws={\"size\": 20})\n",
    "    plt.title(\"Confusion Matrix\", size=20)\n",
    "    plt.xlabel('Predicted Class')\n",
    "    plt.ylabel('True Class');"
   ]
  },
  {
   "cell_type": "code",
   "execution_count": 232,
   "id": "8a2b430d-3cb1-43ee-a6ff-7192e94dc9b8",
   "metadata": {},
   "outputs": [],
   "source": [
    "x_train, x_test, y_train, y_test = train_test_split(x, y, test_size = 0.2, random_state = 42)"
   ]
  },
  {
   "cell_type": "markdown",
   "id": "1fff4b9b-986b-4bba-96c3-f0881dbfee90",
   "metadata": {},
   "source": [
    "#### **Logistic Regression**"
   ]
  },
  {
   "cell_type": "code",
   "execution_count": 233,
   "id": "9f079a87-5005-49ff-8fc6-182ea53c25b3",
   "metadata": {},
   "outputs": [],
   "source": [
    "lr_model = LogisticRegression(solver='liblinear')\n",
    "lr_model.fit(x_train, y_train)\n",
    "y_pred_lr = lr_model.predict(x_test)"
   ]
  },
  {
   "cell_type": "code",
   "execution_count": 234,
   "id": "4d449721-6db6-4cb6-b4dc-d8ee97814fad",
   "metadata": {},
   "outputs": [
    {
     "name": "stdout",
     "output_type": "stream",
     "text": [
      "Accuracy (Test Set): 0.48\n",
      "Precision (Test Set): 0.00\n",
      "Recall (Test Set): 0.00\n",
      "F1-Score (Test Set): 0.00\n",
      "AUC: 0.69\n"
     ]
    }
   ],
   "source": [
    "eval_classification(lr_model, x_train, y_train, x_test, y_test)"
   ]
  },
  {
   "cell_type": "code",
   "execution_count": 235,
   "id": "2b1068c4-fd4d-4b5d-aa50-c601023be778",
   "metadata": {},
   "outputs": [
    {
     "name": "stdout",
     "output_type": "stream",
     "text": [
      "Train score: 0.5082174462705437\n",
      "Test score:0.48484848484848486\n"
     ]
    }
   ],
   "source": [
    "print('Train score: ' + str(lr_model.score(x_train, y_train))) \n",
    "print('Test score:' + str(lr_model.score(x_test, y_test))) "
   ]
  },
  {
   "cell_type": "code",
   "execution_count": 236,
   "id": "de60121d-6726-4de3-9a9a-d2314dfe049e",
   "metadata": {},
   "outputs": [
    {
     "data": {
      "image/png": "[encoded data removed]",
      "text/plain": [
       "<Figure size 720x288 with 2 Axes>"
      ]
     },
     "metadata": {},
     "output_type": "display_data"
    }
   ],
   "source": [
    "show_cmatrix(y_test, y_pred_lr)"
   ]
  },
  {
   "cell_type": "code",
   "execution_count": 237,
   "id": "2569efb0-dc2f-476f-9387-6d4412cc0561",
   "metadata": {},
   "outputs": [],
   "source": [
    "recall_lr = recall_score(y_test, y_pred_lr)\n",
    "acc_lr = accuracy_score(y_test, y_pred_lr)\n",
    "precision_lr = precision_score(y_test, y_pred_lr)\n",
    "f1_lr = f1_score(y_test, y_pred_lr)\n",
    "acc_lr_train = lr_model.score(x_train, y_train)"
   ]
  },
  {
   "cell_type": "markdown",
   "id": "9259a959-c5d8-4930-9c70-6d0734532c01",
   "metadata": {},
   "source": [
    "#### **KNN**"
   ]
  },
  {
   "cell_type": "code",
   "execution_count": 185,
   "id": "10b100cb-7942-47e8-8476-b51bf64ae7f8",
   "metadata": {},
   "outputs": [
    {
     "name": "stdout",
     "output_type": "stream",
     "text": [
      "Requirement already satisfied: threadpoolctl==3.1.0 in d:\\anaconda\\lib\\site-packages (3.1.0)\n",
      "Note: you may need to restart the kernel to use updated packages.\n"
     ]
    }
   ],
   "source": [
    "pip install threadpoolctl==3.1.0"
   ]
  },
  {
   "cell_type": "code",
   "execution_count": 238,
   "id": "96943d56-e35f-4206-ae84-7b04753059f4",
   "metadata": {},
   "outputs": [],
   "source": [
    "knn_model = KNeighborsClassifier()\n",
    "knn_model.fit(x_train, y_train)\n",
    "y_pred_knn = knn_model.predict(x_test)"
   ]
  },
  {
   "cell_type": "code",
   "execution_count": 239,
   "id": "179b011d-904c-40f2-8d34-5c582183cb8c",
   "metadata": {},
   "outputs": [
    {
     "name": "stdout",
     "output_type": "stream",
     "text": [
      "Accuracy (Test Set): 0.60\n",
      "Precision (Test Set): 0.64\n",
      "Recall (Test Set): 0.50\n",
      "F1-Score (Test Set): 0.56\n",
      "AUC: 0.61\n"
     ]
    }
   ],
   "source": [
    "eval_classification(knn_model, x_train, y_train, x_test, y_test)"
   ]
  },
  {
   "cell_type": "code",
   "execution_count": 240,
   "id": "35a0755d-5332-4afb-8327-49106b8071d1",
   "metadata": {},
   "outputs": [
    {
     "name": "stdout",
     "output_type": "stream",
     "text": [
      "Train score: 0.7686472819216182\n",
      "Test score:0.5959595959595959\n"
     ]
    }
   ],
   "source": [
    "print('Train score: ' + str(knn_model.score(x_train, y_train))) \n",
    "print('Test score:' + str(knn_model.score(x_test, y_test))) "
   ]
  },
  {
   "cell_type": "code",
   "execution_count": 241,
   "id": "98efc5ae-4683-4980-86c6-0b20d93a108b",
   "metadata": {},
   "outputs": [
    {
     "data": {
      "image/png": "[encoded data removed]",
      "text/plain": [
       "<Figure size 720x288 with 2 Axes>"
      ]
     },
     "metadata": {},
     "output_type": "display_data"
    }
   ],
   "source": [
    "show_cmatrix(y_test, y_pred_knn)"
   ]
  },
  {
   "cell_type": "code",
   "execution_count": 242,
   "id": "3714de3a-cf23-4a3c-aa07-9c24414ca1d5",
   "metadata": {},
   "outputs": [],
   "source": [
    "recall_knn = recall_score(y_test, y_pred_knn)\n",
    "acc_knn = accuracy_score(y_test, y_pred_knn)\n",
    "precision_knn = precision_score(y_test, y_pred_knn)\n",
    "f1_knn = f1_score(y_test, y_pred_knn)\n",
    "acc_knn_train = knn_model.score(x_train, y_train)"
   ]
  },
  {
   "cell_type": "markdown",
   "id": "a9609ffd-5ce3-48bc-9e19-27ff619eef5f",
   "metadata": {},
   "source": [
    "#### **Decision tree**"
   ]
  },
  {
   "cell_type": "code",
   "execution_count": 243,
   "id": "00344cf0-3161-4137-ade0-516a122af6e4",
   "metadata": {},
   "outputs": [],
   "source": [
    "dt_model = DecisionTreeClassifier()\n",
    "dt_model.fit(x_train,y_train)\n",
    "y_pred_dt = dt_model.predict(x_test)"
   ]
  },
  {
   "cell_type": "code",
   "execution_count": 244,
   "id": "fdc89834-f15f-4eaf-997f-6e6d1f008833",
   "metadata": {},
   "outputs": [
    {
     "name": "stdout",
     "output_type": "stream",
     "text": [
      "Accuracy (Test Set): 0.93\n",
      "Precision (Test Set): 0.92\n",
      "Recall (Test Set): 0.94\n",
      "F1-Score (Test Set): 0.93\n",
      "AUC: 0.93\n"
     ]
    }
   ],
   "source": [
    "eval_classification(dt_model, x_train, y_train, x_test, y_test)"
   ]
  },
  {
   "cell_type": "code",
   "execution_count": 245,
   "id": "1798d978-c250-4939-971d-cc0f5b635c96",
   "metadata": {},
   "outputs": [
    {
     "name": "stdout",
     "output_type": "stream",
     "text": [
      "Train score: 1.0\n",
      "Test score:0.9292929292929293\n"
     ]
    }
   ],
   "source": [
    "print('Train score: ' + str(dt_model.score(x_train, y_train))) #accuracy\n",
    "print('Test score:' + str(dt_model.score(x_test, y_test))) #accuracy"
   ]
  },
  {
   "cell_type": "code",
   "execution_count": 246,
   "id": "ceda3ff1-e6ae-4ed2-bd8a-82f4d829dcf2",
   "metadata": {},
   "outputs": [
    {
     "data": {
      "image/png": "[encoded data removed]",
      "text/plain": [
       "<Figure size 720x288 with 2 Axes>"
      ]
     },
     "metadata": {},
     "output_type": "display_data"
    }
   ],
   "source": [
    "show_cmatrix(y_test, y_pred_dt)"
   ]
  },
  {
   "cell_type": "code",
   "execution_count": 247,
   "id": "dd74b542-1a7b-4e5d-93ea-e96ea857866a",
   "metadata": {},
   "outputs": [],
   "source": [
    "recall_dt = recall_score(y_test, y_pred_dt)\n",
    "acc_dt = accuracy_score(y_test, y_pred_dt)\n",
    "precision_dt = precision_score(y_test, y_pred_dt)\n",
    "f1_dt = f1_score(y_test, y_pred_dt)\n",
    "acc_dt_train = dt_model.score(x_train, y_train)"
   ]
  },
  {
   "cell_type": "markdown",
   "id": "cdee541d-855a-4ac9-a13c-2339cd155f55",
   "metadata": {},
   "source": [
    "### **Model Evaluation with Normalization**"
   ]
  },
  {
   "cell_type": "code",
   "execution_count": 248,
   "id": "4ee29bc7-2dd4-4d55-929d-b1cd9536f7d7",
   "metadata": {},
   "outputs": [
    {
     "data": {
      "text/html": [
       "<div>\n",
       "<style scoped>\n",
       "    .dataframe tbody tr th:only-of-type {\n",
       "        vertical-align: middle;\n",
       "    }\n",
       "\n",
       "    .dataframe tbody tr th {\n",
       "        vertical-align: top;\n",
       "    }\n",
       "\n",
       "    .dataframe thead th {\n",
       "        text-align: right;\n",
       "    }\n",
       "</style>\n",
       "<table border=\"1\" class=\"dataframe\">\n",
       "  <thead>\n",
       "    <tr style=\"text-align: right;\">\n",
       "      <th></th>\n",
       "      <th>Log Res</th>\n",
       "      <th>KNN</th>\n",
       "      <th>Decision Tree</th>\n",
       "    </tr>\n",
       "  </thead>\n",
       "  <tbody>\n",
       "    <tr>\n",
       "      <th>Accuracy</th>\n",
       "      <td>0.484848</td>\n",
       "      <td>0.59596</td>\n",
       "      <td>0.929293</td>\n",
       "    </tr>\n",
       "    <tr>\n",
       "      <th>Recall</th>\n",
       "      <td>0.000000</td>\n",
       "      <td>0.50000</td>\n",
       "      <td>0.941176</td>\n",
       "    </tr>\n",
       "    <tr>\n",
       "      <th>Precision</th>\n",
       "      <td>0.000000</td>\n",
       "      <td>0.63750</td>\n",
       "      <td>0.923077</td>\n",
       "    </tr>\n",
       "    <tr>\n",
       "      <th>F1 Score</th>\n",
       "      <td>0.000000</td>\n",
       "      <td>0.56044</td>\n",
       "      <td>0.932039</td>\n",
       "    </tr>\n",
       "  </tbody>\n",
       "</table>\n",
       "</div>"
      ],
      "text/plain": [
       "            Log Res      KNN  Decision Tree\n",
       "Accuracy   0.484848  0.59596       0.929293\n",
       "Recall     0.000000  0.50000       0.941176\n",
       "Precision  0.000000  0.63750       0.923077\n",
       "F1 Score   0.000000  0.56044       0.932039"
      ]
     },
     "execution_count": 248,
     "metadata": {},
     "output_type": "execute_result"
    }
   ],
   "source": [
    "evaluation_summary = {\n",
    "    'Log Res':[acc_lr, recall_lr, precision_lr, f1_lr],\n",
    "    'KNN':[acc_knn, recall_knn, precision_knn, f1_knn],\n",
    "    'Decision Tree':[acc_dt, recall_dt, precision_dt, f1_dt]\n",
    "}\n",
    "\n",
    "eva_sum = pd.DataFrame(data = evaluation_summary, index = ['Accuracy', 'Recall', 'Precision', 'F1 Score'])\n",
    "eva_sum"
   ]
  },
  {
   "cell_type": "code",
   "execution_count": 249,
   "id": "a116471c-bcd3-498a-9851-e599e68beca0",
   "metadata": {},
   "outputs": [
    {
     "data": {
      "text/html": [
       "<div>\n",
       "<style scoped>\n",
       "    .dataframe tbody tr th:only-of-type {\n",
       "        vertical-align: middle;\n",
       "    }\n",
       "\n",
       "    .dataframe tbody tr th {\n",
       "        vertical-align: top;\n",
       "    }\n",
       "\n",
       "    .dataframe thead th {\n",
       "        text-align: right;\n",
       "    }\n",
       "</style>\n",
       "<table border=\"1\" class=\"dataframe\">\n",
       "  <thead>\n",
       "    <tr style=\"text-align: right;\">\n",
       "      <th></th>\n",
       "      <th>Train</th>\n",
       "      <th>Test</th>\n",
       "    </tr>\n",
       "  </thead>\n",
       "  <tbody>\n",
       "    <tr>\n",
       "      <th>Log Res</th>\n",
       "      <td>0.508217</td>\n",
       "      <td>0.484848</td>\n",
       "    </tr>\n",
       "    <tr>\n",
       "      <th>KNN</th>\n",
       "      <td>0.768647</td>\n",
       "      <td>0.595960</td>\n",
       "    </tr>\n",
       "    <tr>\n",
       "      <th>Decision Tree</th>\n",
       "      <td>1.000000</td>\n",
       "      <td>0.929293</td>\n",
       "    </tr>\n",
       "  </tbody>\n",
       "</table>\n",
       "</div>"
      ],
      "text/plain": [
       "                  Train      Test\n",
       "Log Res        0.508217  0.484848\n",
       "KNN            0.768647  0.595960\n",
       "Decision Tree  1.000000  0.929293"
      ]
     },
     "execution_count": 249,
     "metadata": {},
     "output_type": "execute_result"
    }
   ],
   "source": [
    "evaluation_summary_train_test = {\n",
    "    \"Train\" : [acc_lr_train, acc_knn_train, acc_dt_train],\n",
    "    \"Test\": [acc_lr, acc_knn, acc_dt]\n",
    "}\n",
    "\n",
    "eva_sum_train_test = pd.DataFrame(data = evaluation_summary_train_test, index = ['Log Res','KNN', 'Decision Tree'])\n",
    "eva_sum_train_test"
   ]
  },
  {
   "cell_type": "markdown",
   "id": "186b07b3-ebcd-4192-8d7e-22fd94b2dd3b",
   "metadata": {},
   "source": [
    "## **Feature Importance**"
   ]
  },
  {
   "cell_type": "code",
   "execution_count": 250,
   "id": "47a75721-0ff9-4d32-81de-72cbd2e892c1",
   "metadata": {},
   "outputs": [],
   "source": [
    "##Using the best model accuracy score (Decision Tree with normalizatipn data)\n",
    "dt_norm = DecisionTreeClassifier()\n",
    "\n",
    "dtf=dt_norm.fit(x_train, y_train)\n",
    "dtf.feature_importances_\n",
    "len(dtf.feature_importances_)\n",
    "\n",
    "df_real_norm.reset_index(drop=True, inplace=True)\n",
    "df_feature_importance = pd.DataFrame({'Features_Name':x.columns, 'Features_Importances':dtf.feature_importances_}\n",
    "                                    ).sort_values('Features_Importances', ascending=False).reset_index(drop=True)"
   ]
  },
  {
   "cell_type": "code",
   "execution_count": 251,
   "id": "00876674-f706-4575-ad5b-1464e9197495",
   "metadata": {},
   "outputs": [
    {
     "data": {
      "text/html": [
       "<div>\n",
       "<style scoped>\n",
       "    .dataframe tbody tr th:only-of-type {\n",
       "        vertical-align: middle;\n",
       "    }\n",
       "\n",
       "    .dataframe tbody tr th {\n",
       "        vertical-align: top;\n",
       "    }\n",
       "\n",
       "    .dataframe thead th {\n",
       "        text-align: right;\n",
       "    }\n",
       "</style>\n",
       "<table border=\"1\" class=\"dataframe\">\n",
       "  <thead>\n",
       "    <tr style=\"text-align: right;\">\n",
       "      <th></th>\n",
       "      <th>Features_Name</th>\n",
       "      <th>Features_Importances</th>\n",
       "    </tr>\n",
       "  </thead>\n",
       "  <tbody>\n",
       "    <tr>\n",
       "      <th>0</th>\n",
       "      <td>daily_internet_usage</td>\n",
       "      <td>0.716088</td>\n",
       "    </tr>\n",
       "    <tr>\n",
       "      <th>1</th>\n",
       "      <td>daily_time_spent_on_site</td>\n",
       "      <td>0.148941</td>\n",
       "    </tr>\n",
       "    <tr>\n",
       "      <th>2</th>\n",
       "      <td>area_income</td>\n",
       "      <td>0.046612</td>\n",
       "    </tr>\n",
       "    <tr>\n",
       "      <th>3</th>\n",
       "      <td>age</td>\n",
       "      <td>0.038066</td>\n",
       "    </tr>\n",
       "    <tr>\n",
       "      <th>4</th>\n",
       "      <td>pekan</td>\n",
       "      <td>0.008491</td>\n",
       "    </tr>\n",
       "    <tr>\n",
       "      <th>...</th>\n",
       "      <td>...</td>\n",
       "      <td>...</td>\n",
       "    </tr>\n",
       "    <tr>\n",
       "      <th>63</th>\n",
       "      <td>kota_Serang</td>\n",
       "      <td>0.000000</td>\n",
       "    </tr>\n",
       "    <tr>\n",
       "      <th>64</th>\n",
       "      <td>kota_Surakarta</td>\n",
       "      <td>0.000000</td>\n",
       "    </tr>\n",
       "    <tr>\n",
       "      <th>65</th>\n",
       "      <td>kota_Tangerang</td>\n",
       "      <td>0.000000</td>\n",
       "    </tr>\n",
       "    <tr>\n",
       "      <th>66</th>\n",
       "      <td>kota_Tangerang Selatan</td>\n",
       "      <td>0.000000</td>\n",
       "    </tr>\n",
       "    <tr>\n",
       "      <th>67</th>\n",
       "      <td>golumur_Youth (15-24)</td>\n",
       "      <td>0.000000</td>\n",
       "    </tr>\n",
       "  </tbody>\n",
       "</table>\n",
       "<p>68 rows × 2 columns</p>\n",
       "</div>"
      ],
      "text/plain": [
       "               Features_Name  Features_Importances\n",
       "0       daily_internet_usage              0.716088\n",
       "1   daily_time_spent_on_site              0.148941\n",
       "2                area_income              0.046612\n",
       "3                        age              0.038066\n",
       "4                      pekan              0.008491\n",
       "..                       ...                   ...\n",
       "63               kota_Serang              0.000000\n",
       "64            kota_Surakarta              0.000000\n",
       "65            kota_Tangerang              0.000000\n",
       "66    kota_Tangerang Selatan              0.000000\n",
       "67     golumur_Youth (15-24)              0.000000\n",
       "\n",
       "[68 rows x 2 columns]"
      ]
     },
     "execution_count": 251,
     "metadata": {},
     "output_type": "execute_result"
    }
   ],
   "source": [
    "df_feature_importance"
   ]
  },
  {
   "cell_type": "code",
   "execution_count": 252,
   "id": "771d984b-532a-40b5-a017-1953c540eba9",
   "metadata": {},
   "outputs": [
    {
     "data": {
      "text/plain": [
       "<BarContainer object of 10 artists>"
      ]
     },
     "execution_count": 252,
     "metadata": {},
     "output_type": "execute_result"
    },
    {
     "data": {
      "image/png": "[encoded data removed]",
      "text/plain": [
       "<Figure size 432x288 with 1 Axes>"
      ]
     },
     "metadata": {},
     "output_type": "display_data"
    }
   ],
   "source": [
    "plt.barh(df_feature_importance.Features_Name.head(10),df_feature_importance.Features_Importances.head(10))"
   ]
  },
  {
   "cell_type": "code",
   "execution_count": null,
   "id": "6c286079-f1c9-4c39-91c5-1797e1c984c8",
   "metadata": {},
   "outputs": [],
   "source": []
  }
 ],
 "metadata": {
  "kernelspec": {
   "display_name": "Python 3 (ipykernel)",
   "language": "python",
   "name": "python3"
  },
  "language_info": {
   "codemirror_mode": {
    "name": "ipython",
    "version": 3
   },
   "file_extension": ".py",
   "mimetype": "text/x-python",
   "name": "python",
   "nbconvert_exporter": "python",
   "pygments_lexer": "ipython3",
   "version": "3.9.7"
  }
 },
 "nbformat": 4,
 "nbformat_minor": 5
}
